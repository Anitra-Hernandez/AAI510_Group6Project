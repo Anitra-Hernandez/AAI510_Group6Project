{
  "cells": [
    {
      "cell_type": "markdown",
      "metadata": {
        "id": "qYoMzraOoMD5"
      },
      "source": [
        "# Introduction"
      ]
    },
    {
      "cell_type": "markdown",
      "metadata": {
        "id": "8sNCR1Z5oMD-"
      },
      "source": [
        "## Problem statement and justification for the proposed approach."
      ]
    },
    {
      "cell_type": "markdown",
      "metadata": {
        "id": "6Lc2NOaAoMD_"
      },
      "source": [
        "# Libraries"
      ]
    },
    {
      "cell_type": "markdown",
      "metadata": {
        "id": "ifEdv2rgoMEA"
      },
      "source": [
        "#### Add requirments.txt later"
      ]
    },
    {
      "cell_type": "code",
      "execution_count": 3,
      "metadata": {
        "id": "EBJtetUPtdG4"
      },
      "outputs": [],
      "source": [
        "import pandas as pd\n",
        "import numpy as np\n",
        "import torch\n",
        "import torch.nn as nn\n",
        "from sklearn.preprocessing import MinMaxScaler\n",
        "import matplotlib.pyplot as plt"
      ]
    },
    {
      "cell_type": "markdown",
      "metadata": {
        "id": "B3CQE1ZJoMEB"
      },
      "source": [
        "# EDA"
      ]
    },
    {
      "cell_type": "code",
      "execution_count": 4,
      "metadata": {
        "id": "ZLhPOJicoMEC"
      },
      "outputs": [],
      "source": [
        "df =  pd.read_csv('../World Stock Prices (Daily Updating)/World-Stock-Prices-Dataset.csv')"
      ]
    },
    {
      "cell_type": "code",
      "execution_count": 5,
      "metadata": {
        "colab": {
          "base_uri": "https://localhost:8080/",
          "height": 310
        },
        "id": "KFnZX9A7oMED",
        "outputId": "fe16e520-6df3-44de-ec40-81b744e214d6"
      },
      "outputs": [
        {
          "data": {
            "text/html": [
              "<div>\n",
              "<style scoped>\n",
              "    .dataframe tbody tr th:only-of-type {\n",
              "        vertical-align: middle;\n",
              "    }\n",
              "\n",
              "    .dataframe tbody tr th {\n",
              "        vertical-align: top;\n",
              "    }\n",
              "\n",
              "    .dataframe thead th {\n",
              "        text-align: right;\n",
              "    }\n",
              "</style>\n",
              "<table border=\"1\" class=\"dataframe\">\n",
              "  <thead>\n",
              "    <tr style=\"text-align: right;\">\n",
              "      <th></th>\n",
              "      <th>Date</th>\n",
              "      <th>Open</th>\n",
              "      <th>High</th>\n",
              "      <th>Low</th>\n",
              "      <th>Close</th>\n",
              "      <th>Volume</th>\n",
              "      <th>Dividends</th>\n",
              "      <th>Stock Splits</th>\n",
              "      <th>Brand_Name</th>\n",
              "      <th>Ticker</th>\n",
              "      <th>Industry_Tag</th>\n",
              "      <th>Country</th>\n",
              "      <th>Capital Gains</th>\n",
              "    </tr>\n",
              "  </thead>\n",
              "  <tbody>\n",
              "    <tr>\n",
              "      <th>0</th>\n",
              "      <td>2025-05-30 00:00:00-04:00</td>\n",
              "      <td>7.020000</td>\n",
              "      <td>7.240000</td>\n",
              "      <td>6.920000</td>\n",
              "      <td>7.100000</td>\n",
              "      <td>12750600.0</td>\n",
              "      <td>0.0</td>\n",
              "      <td>0.0</td>\n",
              "      <td>peloton</td>\n",
              "      <td>PTON</td>\n",
              "      <td>fitness</td>\n",
              "      <td>usa</td>\n",
              "      <td>NaN</td>\n",
              "    </tr>\n",
              "    <tr>\n",
              "      <th>1</th>\n",
              "      <td>2025-05-30 00:00:00-04:00</td>\n",
              "      <td>102.639999</td>\n",
              "      <td>102.940002</td>\n",
              "      <td>100.790001</td>\n",
              "      <td>102.000000</td>\n",
              "      <td>1505500.0</td>\n",
              "      <td>0.0</td>\n",
              "      <td>0.0</td>\n",
              "      <td>crocs</td>\n",
              "      <td>CROX</td>\n",
              "      <td>footwear</td>\n",
              "      <td>usa</td>\n",
              "      <td>NaN</td>\n",
              "    </tr>\n",
              "    <tr>\n",
              "      <th>2</th>\n",
              "      <td>2025-05-30 00:00:00-04:00</td>\n",
              "      <td>71.610001</td>\n",
              "      <td>72.470001</td>\n",
              "      <td>71.610001</td>\n",
              "      <td>72.099998</td>\n",
              "      <td>28013500.0</td>\n",
              "      <td>0.0</td>\n",
              "      <td>0.0</td>\n",
              "      <td>the coca-cola company</td>\n",
              "      <td>KO</td>\n",
              "      <td>food &amp; beverage</td>\n",
              "      <td>usa</td>\n",
              "      <td>NaN</td>\n",
              "    </tr>\n",
              "    <tr>\n",
              "      <th>3</th>\n",
              "      <td>2025-05-30 00:00:00-04:00</td>\n",
              "      <td>125.080002</td>\n",
              "      <td>126.190002</td>\n",
              "      <td>123.750000</td>\n",
              "      <td>124.510002</td>\n",
              "      <td>82500.0</td>\n",
              "      <td>0.0</td>\n",
              "      <td>0.0</td>\n",
              "      <td>adidas</td>\n",
              "      <td>ADDYY</td>\n",
              "      <td>apparel</td>\n",
              "      <td>germany</td>\n",
              "      <td>NaN</td>\n",
              "    </tr>\n",
              "    <tr>\n",
              "      <th>4</th>\n",
              "      <td>2025-05-30 00:00:00-04:00</td>\n",
              "      <td>294.970001</td>\n",
              "      <td>295.750000</td>\n",
              "      <td>291.630005</td>\n",
              "      <td>294.049988</td>\n",
              "      <td>5251700.0</td>\n",
              "      <td>0.0</td>\n",
              "      <td>0.0</td>\n",
              "      <td>american express</td>\n",
              "      <td>AXP</td>\n",
              "      <td>finance</td>\n",
              "      <td>usa</td>\n",
              "      <td>NaN</td>\n",
              "    </tr>\n",
              "  </tbody>\n",
              "</table>\n",
              "</div>"
            ],
            "text/plain": [
              "                        Date        Open        High         Low       Close  \\\n",
              "0  2025-05-30 00:00:00-04:00    7.020000    7.240000    6.920000    7.100000   \n",
              "1  2025-05-30 00:00:00-04:00  102.639999  102.940002  100.790001  102.000000   \n",
              "2  2025-05-30 00:00:00-04:00   71.610001   72.470001   71.610001   72.099998   \n",
              "3  2025-05-30 00:00:00-04:00  125.080002  126.190002  123.750000  124.510002   \n",
              "4  2025-05-30 00:00:00-04:00  294.970001  295.750000  291.630005  294.049988   \n",
              "\n",
              "       Volume  Dividends  Stock Splits             Brand_Name Ticker  \\\n",
              "0  12750600.0        0.0           0.0                peloton   PTON   \n",
              "1   1505500.0        0.0           0.0                  crocs   CROX   \n",
              "2  28013500.0        0.0           0.0  the coca-cola company     KO   \n",
              "3     82500.0        0.0           0.0                 adidas  ADDYY   \n",
              "4   5251700.0        0.0           0.0       american express    AXP   \n",
              "\n",
              "      Industry_Tag  Country  Capital Gains  \n",
              "0          fitness      usa            NaN  \n",
              "1         footwear      usa            NaN  \n",
              "2  food & beverage      usa            NaN  \n",
              "3          apparel  germany            NaN  \n",
              "4          finance      usa            NaN  "
            ]
          },
          "execution_count": 5,
          "metadata": {},
          "output_type": "execute_result"
        }
      ],
      "source": [
        "df.head()"
      ]
    },
    {
      "cell_type": "code",
      "execution_count": 6,
      "metadata": {
        "colab": {
          "base_uri": "https://localhost:8080/",
          "height": 492
        },
        "id": "HFuZGV5Sq-xc",
        "outputId": "0c4c568e-00f2-4205-cfd6-155a41667024"
      },
      "outputs": [
        {
          "data": {
            "text/plain": [
              "Date              object\n",
              "Open             float64\n",
              "High             float64\n",
              "Low              float64\n",
              "Close            float64\n",
              "Volume           float64\n",
              "Dividends        float64\n",
              "Stock Splits     float64\n",
              "Brand_Name        object\n",
              "Ticker            object\n",
              "Industry_Tag      object\n",
              "Country           object\n",
              "Capital Gains    float64\n",
              "dtype: object"
            ]
          },
          "execution_count": 6,
          "metadata": {},
          "output_type": "execute_result"
        }
      ],
      "source": [
        "df.dtypes"
      ]
    },
    {
      "cell_type": "code",
      "execution_count": 7,
      "metadata": {
        "id": "N0sMX6b6rMJY"
      },
      "outputs": [],
      "source": [
        "df['Date'] = pd.to_datetime(df['Date'], utc=True)"
      ]
    },
    {
      "cell_type": "code",
      "execution_count": 8,
      "metadata": {
        "colab": {
          "base_uri": "https://localhost:8080/",
          "height": 492
        },
        "id": "YGXfMJMZrTWa",
        "outputId": "e5499dba-de6f-4bce-9dee-66ee3312f69e"
      },
      "outputs": [
        {
          "data": {
            "text/plain": [
              "Date             datetime64[ns, UTC]\n",
              "Open                         float64\n",
              "High                         float64\n",
              "Low                          float64\n",
              "Close                        float64\n",
              "Volume                       float64\n",
              "Dividends                    float64\n",
              "Stock Splits                 float64\n",
              "Brand_Name                    object\n",
              "Ticker                        object\n",
              "Industry_Tag                  object\n",
              "Country                       object\n",
              "Capital Gains                float64\n",
              "dtype: object"
            ]
          },
          "execution_count": 8,
          "metadata": {},
          "output_type": "execute_result"
        }
      ],
      "source": [
        "df.dtypes"
      ]
    },
    {
      "cell_type": "code",
      "execution_count": 9,
      "metadata": {
        "colab": {
          "base_uri": "https://localhost:8080/",
          "height": 206
        },
        "id": "BkqkwMO0r1j1",
        "outputId": "7043bf2b-4229-48f8-f50c-0151df907819"
      },
      "outputs": [
        {
          "data": {
            "text/html": [
              "<div>\n",
              "<style scoped>\n",
              "    .dataframe tbody tr th:only-of-type {\n",
              "        vertical-align: middle;\n",
              "    }\n",
              "\n",
              "    .dataframe tbody tr th {\n",
              "        vertical-align: top;\n",
              "    }\n",
              "\n",
              "    .dataframe thead th {\n",
              "        text-align: right;\n",
              "    }\n",
              "</style>\n",
              "<table border=\"1\" class=\"dataframe\">\n",
              "  <thead>\n",
              "    <tr style=\"text-align: right;\">\n",
              "      <th></th>\n",
              "      <th>Date</th>\n",
              "      <th>Open</th>\n",
              "      <th>High</th>\n",
              "      <th>Low</th>\n",
              "      <th>Close</th>\n",
              "      <th>Volume</th>\n",
              "      <th>Ticker</th>\n",
              "    </tr>\n",
              "  </thead>\n",
              "  <tbody>\n",
              "    <tr>\n",
              "      <th>0</th>\n",
              "      <td>2025-05-30 04:00:00+00:00</td>\n",
              "      <td>7.020000</td>\n",
              "      <td>7.240000</td>\n",
              "      <td>6.920000</td>\n",
              "      <td>7.100000</td>\n",
              "      <td>12750600.0</td>\n",
              "      <td>PTON</td>\n",
              "    </tr>\n",
              "    <tr>\n",
              "      <th>1</th>\n",
              "      <td>2025-05-30 04:00:00+00:00</td>\n",
              "      <td>102.639999</td>\n",
              "      <td>102.940002</td>\n",
              "      <td>100.790001</td>\n",
              "      <td>102.000000</td>\n",
              "      <td>1505500.0</td>\n",
              "      <td>CROX</td>\n",
              "    </tr>\n",
              "    <tr>\n",
              "      <th>2</th>\n",
              "      <td>2025-05-30 04:00:00+00:00</td>\n",
              "      <td>71.610001</td>\n",
              "      <td>72.470001</td>\n",
              "      <td>71.610001</td>\n",
              "      <td>72.099998</td>\n",
              "      <td>28013500.0</td>\n",
              "      <td>KO</td>\n",
              "    </tr>\n",
              "    <tr>\n",
              "      <th>4</th>\n",
              "      <td>2025-05-30 04:00:00+00:00</td>\n",
              "      <td>294.970001</td>\n",
              "      <td>295.750000</td>\n",
              "      <td>291.630005</td>\n",
              "      <td>294.049988</td>\n",
              "      <td>5251700.0</td>\n",
              "      <td>AXP</td>\n",
              "    </tr>\n",
              "    <tr>\n",
              "      <th>6</th>\n",
              "      <td>2025-05-30 04:00:00+00:00</td>\n",
              "      <td>361.350006</td>\n",
              "      <td>367.040009</td>\n",
              "      <td>361.350006</td>\n",
              "      <td>365.190002</td>\n",
              "      <td>8726000.0</td>\n",
              "      <td>V</td>\n",
              "    </tr>\n",
              "  </tbody>\n",
              "</table>\n",
              "</div>"
            ],
            "text/plain": [
              "                       Date        Open        High         Low       Close  \\\n",
              "0 2025-05-30 04:00:00+00:00    7.020000    7.240000    6.920000    7.100000   \n",
              "1 2025-05-30 04:00:00+00:00  102.639999  102.940002  100.790001  102.000000   \n",
              "2 2025-05-30 04:00:00+00:00   71.610001   72.470001   71.610001   72.099998   \n",
              "4 2025-05-30 04:00:00+00:00  294.970001  295.750000  291.630005  294.049988   \n",
              "6 2025-05-30 04:00:00+00:00  361.350006  367.040009  361.350006  365.190002   \n",
              "\n",
              "       Volume Ticker  \n",
              "0  12750600.0   PTON  \n",
              "1   1505500.0   CROX  \n",
              "2  28013500.0     KO  \n",
              "4   5251700.0    AXP  \n",
              "6   8726000.0      V  "
            ]
          },
          "execution_count": 9,
          "metadata": {},
          "output_type": "execute_result"
        }
      ],
      "source": [
        "\n",
        "df_filtered = df.copy()\n",
        "df_filtered = df_filtered[df_filtered[\"Country\"] == \"usa\"]\n",
        "df_filtered = df_filtered.drop(['Brand_Name', 'Capital Gains', 'Country', 'Industry_Tag', 'Stock Splits', 'Dividends'], axis=1)\n",
        "df_filtered.head()\n"
      ]
    },
    {
      "cell_type": "code",
      "execution_count": 10,
      "metadata": {
        "colab": {
          "base_uri": "https://localhost:8080/",
          "height": 238
        },
        "id": "jyr_Uswhs_By",
        "outputId": "22734198-452f-4e97-d672-0790cd6d68d8"
      },
      "outputs": [
        {
          "data": {
            "text/html": [
              "<div>\n",
              "<style scoped>\n",
              "    .dataframe tbody tr th:only-of-type {\n",
              "        vertical-align: middle;\n",
              "    }\n",
              "\n",
              "    .dataframe tbody tr th {\n",
              "        vertical-align: top;\n",
              "    }\n",
              "\n",
              "    .dataframe thead th {\n",
              "        text-align: right;\n",
              "    }\n",
              "</style>\n",
              "<table border=\"1\" class=\"dataframe\">\n",
              "  <thead>\n",
              "    <tr style=\"text-align: right;\">\n",
              "      <th></th>\n",
              "      <th>Open</th>\n",
              "      <th>High</th>\n",
              "      <th>Low</th>\n",
              "      <th>Close</th>\n",
              "      <th>Volume</th>\n",
              "      <th>Ticker</th>\n",
              "    </tr>\n",
              "    <tr>\n",
              "      <th>Date</th>\n",
              "      <th></th>\n",
              "      <th></th>\n",
              "      <th></th>\n",
              "      <th></th>\n",
              "      <th></th>\n",
              "      <th></th>\n",
              "    </tr>\n",
              "  </thead>\n",
              "  <tbody>\n",
              "    <tr>\n",
              "      <th>2025-05-30 04:00:00+00:00</th>\n",
              "      <td>7.020000</td>\n",
              "      <td>7.240000</td>\n",
              "      <td>6.920000</td>\n",
              "      <td>7.100000</td>\n",
              "      <td>12750600.0</td>\n",
              "      <td>PTON</td>\n",
              "    </tr>\n",
              "    <tr>\n",
              "      <th>2025-05-30 04:00:00+00:00</th>\n",
              "      <td>102.639999</td>\n",
              "      <td>102.940002</td>\n",
              "      <td>100.790001</td>\n",
              "      <td>102.000000</td>\n",
              "      <td>1505500.0</td>\n",
              "      <td>CROX</td>\n",
              "    </tr>\n",
              "    <tr>\n",
              "      <th>2025-05-30 04:00:00+00:00</th>\n",
              "      <td>71.610001</td>\n",
              "      <td>72.470001</td>\n",
              "      <td>71.610001</td>\n",
              "      <td>72.099998</td>\n",
              "      <td>28013500.0</td>\n",
              "      <td>KO</td>\n",
              "    </tr>\n",
              "    <tr>\n",
              "      <th>2025-05-30 04:00:00+00:00</th>\n",
              "      <td>294.970001</td>\n",
              "      <td>295.750000</td>\n",
              "      <td>291.630005</td>\n",
              "      <td>294.049988</td>\n",
              "      <td>5251700.0</td>\n",
              "      <td>AXP</td>\n",
              "    </tr>\n",
              "    <tr>\n",
              "      <th>2025-05-30 04:00:00+00:00</th>\n",
              "      <td>361.350006</td>\n",
              "      <td>367.040009</td>\n",
              "      <td>361.350006</td>\n",
              "      <td>365.190002</td>\n",
              "      <td>8726000.0</td>\n",
              "      <td>V</td>\n",
              "    </tr>\n",
              "  </tbody>\n",
              "</table>\n",
              "</div>"
            ],
            "text/plain": [
              "                                 Open        High         Low       Close  \\\n",
              "Date                                                                        \n",
              "2025-05-30 04:00:00+00:00    7.020000    7.240000    6.920000    7.100000   \n",
              "2025-05-30 04:00:00+00:00  102.639999  102.940002  100.790001  102.000000   \n",
              "2025-05-30 04:00:00+00:00   71.610001   72.470001   71.610001   72.099998   \n",
              "2025-05-30 04:00:00+00:00  294.970001  295.750000  291.630005  294.049988   \n",
              "2025-05-30 04:00:00+00:00  361.350006  367.040009  361.350006  365.190002   \n",
              "\n",
              "                               Volume Ticker  \n",
              "Date                                          \n",
              "2025-05-30 04:00:00+00:00  12750600.0   PTON  \n",
              "2025-05-30 04:00:00+00:00   1505500.0   CROX  \n",
              "2025-05-30 04:00:00+00:00  28013500.0     KO  \n",
              "2025-05-30 04:00:00+00:00   5251700.0    AXP  \n",
              "2025-05-30 04:00:00+00:00   8726000.0      V  "
            ]
          },
          "execution_count": 10,
          "metadata": {},
          "output_type": "execute_result"
        }
      ],
      "source": [
        "df_filtered.set_index('Date', inplace=True)\n",
        "df_filtered.head()"
      ]
    },
    {
      "cell_type": "code",
      "execution_count": 11,
      "metadata": {
        "colab": {
          "base_uri": "https://localhost:8080/",
          "height": 272
        },
        "id": "qq7wN267uW4U",
        "outputId": "bfe5d7d3-5097-4925-fe49-fdf1da2dd1a9"
      },
      "outputs": [
        {
          "data": {
            "text/plain": [
              "Open      0\n",
              "High      0\n",
              "Low       0\n",
              "Close     0\n",
              "Volume    0\n",
              "Ticker    0\n",
              "dtype: int64"
            ]
          },
          "execution_count": 11,
          "metadata": {},
          "output_type": "execute_result"
        }
      ],
      "source": [
        "df_filtered.isnull().sum()"
      ]
    },
    {
      "cell_type": "code",
      "execution_count": null,
      "metadata": {
        "id": "HbcKyzDOul-h"
      },
      "outputs": [],
      "source": []
    },
    {
      "cell_type": "code",
      "execution_count": 12,
      "metadata": {
        "colab": {
          "base_uri": "https://localhost:8080/",
          "height": 707
        },
        "id": "KNjwCXkMtLea",
        "outputId": "093c3e8b-123a-49ee-e8e8-a15b656f9fbd"
      },
      "outputs": [
        {
          "data": {
            "image/png": "[encoded data removed]",
            "text/plain": [
              "<Figure size 1200x700 with 1 Axes>"
            ]
          },
          "metadata": {},
          "output_type": "display_data"
        }
      ],
      "source": [
        "top_tickers = (\n",
        "    df_filtered.groupby(\"Ticker\")[\"Close\"]\n",
        "    .mean()\n",
        "    .nlargest(10)\n",
        "    .index\n",
        ")\n",
        "\n",
        "plt.figure(figsize=(12, 7))\n",
        "for ticker in top_tickers:\n",
        "    df_ticker = df_filtered[df_filtered[\"Ticker\"] == ticker]\n",
        "    plt.plot(df_ticker.index, df_ticker[\"Close\"], label=ticker)\n",
        "\n",
        "plt.xlabel(\"Date\")\n",
        "plt.ylabel(\"Close Price\")\n",
        "plt.title(\"Close Price Over Time for Top 10 Tickers\")\n",
        "plt.legend(loc=\"upper left\", fontsize=\"small\")\n",
        "plt.grid(True)\n",
        "plt.tight_layout()\n",
        "plt.show()\n"
      ]
    },
    {
      "cell_type": "code",
      "execution_count": 13,
      "metadata": {
        "id": "zZf6lXZHIBW4"
      },
      "outputs": [],
      "source": [
        "df_stock = df_filtered[df_filtered[\"Ticker\"] == \"NFLX\"].copy()\n",
        "df_stock = df_stock.sort_index()"
      ]
    },
    {
      "cell_type": "code",
      "execution_count": 14,
      "metadata": {
        "colab": {
          "base_uri": "https://localhost:8080/",
          "height": 238
        },
        "id": "KNZkyCWIIIn-",
        "outputId": "ea527d36-f624-41a5-f199-b3d96272b03f"
      },
      "outputs": [
        {
          "data": {
            "text/html": [
              "<div>\n",
              "<style scoped>\n",
              "    .dataframe tbody tr th:only-of-type {\n",
              "        vertical-align: middle;\n",
              "    }\n",
              "\n",
              "    .dataframe tbody tr th {\n",
              "        vertical-align: top;\n",
              "    }\n",
              "\n",
              "    .dataframe thead th {\n",
              "        text-align: right;\n",
              "    }\n",
              "</style>\n",
              "<table border=\"1\" class=\"dataframe\">\n",
              "  <thead>\n",
              "    <tr style=\"text-align: right;\">\n",
              "      <th></th>\n",
              "      <th>Open</th>\n",
              "      <th>High</th>\n",
              "      <th>Low</th>\n",
              "      <th>Close</th>\n",
              "      <th>Volume</th>\n",
              "      <th>Ticker</th>\n",
              "    </tr>\n",
              "    <tr>\n",
              "      <th>Date</th>\n",
              "      <th></th>\n",
              "      <th></th>\n",
              "      <th></th>\n",
              "      <th></th>\n",
              "      <th></th>\n",
              "      <th></th>\n",
              "    </tr>\n",
              "  </thead>\n",
              "  <tbody>\n",
              "    <tr>\n",
              "      <th>2002-05-23 04:00:00+00:00</th>\n",
              "      <td>1.156429</td>\n",
              "      <td>1.242857</td>\n",
              "      <td>1.145714</td>\n",
              "      <td>1.196429</td>\n",
              "      <td>104790000.0</td>\n",
              "      <td>NFLX</td>\n",
              "    </tr>\n",
              "    <tr>\n",
              "      <th>2002-05-24 04:00:00+00:00</th>\n",
              "      <td>1.214286</td>\n",
              "      <td>1.225000</td>\n",
              "      <td>1.197143</td>\n",
              "      <td>1.210000</td>\n",
              "      <td>11104800.0</td>\n",
              "      <td>NFLX</td>\n",
              "    </tr>\n",
              "    <tr>\n",
              "      <th>2002-05-28 04:00:00+00:00</th>\n",
              "      <td>1.213571</td>\n",
              "      <td>1.232143</td>\n",
              "      <td>1.157143</td>\n",
              "      <td>1.157143</td>\n",
              "      <td>6609400.0</td>\n",
              "      <td>NFLX</td>\n",
              "    </tr>\n",
              "    <tr>\n",
              "      <th>2002-05-29 04:00:00+00:00</th>\n",
              "      <td>1.164286</td>\n",
              "      <td>1.164286</td>\n",
              "      <td>1.085714</td>\n",
              "      <td>1.103571</td>\n",
              "      <td>6757800.0</td>\n",
              "      <td>NFLX</td>\n",
              "    </tr>\n",
              "    <tr>\n",
              "      <th>2002-05-30 04:00:00+00:00</th>\n",
              "      <td>1.107857</td>\n",
              "      <td>1.107857</td>\n",
              "      <td>1.071429</td>\n",
              "      <td>1.071429</td>\n",
              "      <td>10154200.0</td>\n",
              "      <td>NFLX</td>\n",
              "    </tr>\n",
              "  </tbody>\n",
              "</table>\n",
              "</div>"
            ],
            "text/plain": [
              "                               Open      High       Low     Close  \\\n",
              "Date                                                                \n",
              "2002-05-23 04:00:00+00:00  1.156429  1.242857  1.145714  1.196429   \n",
              "2002-05-24 04:00:00+00:00  1.214286  1.225000  1.197143  1.210000   \n",
              "2002-05-28 04:00:00+00:00  1.213571  1.232143  1.157143  1.157143   \n",
              "2002-05-29 04:00:00+00:00  1.164286  1.164286  1.085714  1.103571   \n",
              "2002-05-30 04:00:00+00:00  1.107857  1.107857  1.071429  1.071429   \n",
              "\n",
              "                                Volume Ticker  \n",
              "Date                                           \n",
              "2002-05-23 04:00:00+00:00  104790000.0   NFLX  \n",
              "2002-05-24 04:00:00+00:00   11104800.0   NFLX  \n",
              "2002-05-28 04:00:00+00:00    6609400.0   NFLX  \n",
              "2002-05-29 04:00:00+00:00    6757800.0   NFLX  \n",
              "2002-05-30 04:00:00+00:00   10154200.0   NFLX  "
            ]
          },
          "execution_count": 14,
          "metadata": {},
          "output_type": "execute_result"
        }
      ],
      "source": [
        "df_stock.head()"
      ]
    },
    {
      "cell_type": "code",
      "execution_count": 15,
      "metadata": {
        "id": "YKCeTAKIIMsj"
      },
      "outputs": [],
      "source": [
        "df_fe = df_stock.copy()\n",
        "\n",
        "df_fe['Close_lag_1'] = df_fe['Close'].shift(1)\n",
        "\n",
        "df_fe['Return_1d'] = df_fe['Close'].pct_change()\n",
        "\n",
        "df_fe['MA_5'] = df_fe['Close'].rolling(window=5).mean()\n",
        "df_fe['MA_20'] = df_fe['Close'].rolling(window=20).mean()\n",
        "\n",
        "df_fe['Volatility_10d'] = df_fe['Close'].rolling(window=10).std()\n",
        "\n",
        "df_fe['Volume_MA_10'] = df_fe['Volume'].rolling(window=10).mean()\n",
        "df_fe['Volume_Ratio'] = df_fe['Volume'] / df_fe['Volume_MA_10']\n",
        "\n",
        "df_fe.dropna(inplace=True)\n",
        "features = [\n",
        "    'Open', 'High', 'Low', 'Close', 'Volume',\n",
        "    'Close_lag_1', 'Return_1d',\n",
        "    'MA_5', 'MA_20',\n",
        "    'Volatility_10d',\n",
        "    'Volume_Ratio'\n",
        "]\n"
      ]
    },
    {
      "cell_type": "markdown",
      "metadata": {
        "id": "0-OXdQhHoMED"
      },
      "source": [
        "# Data preparation & Feature engineering – data pre-processing – missing values, outliers, etc.\n",
        "# Feature Selection – how were the features selected based on the data analysis?"
      ]
    },
    {
      "cell_type": "code",
      "execution_count": null,
      "metadata": {
        "id": "tTlw946PoMEE"
      },
      "outputs": [],
      "source": []
    },
    {
      "cell_type": "markdown",
      "metadata": {
        "id": "COwCDCyYoMEF"
      },
      "source": [
        "# Model Training\n",
        "## selection, comparison, tuning, and analysis – consider ensembles."
      ]
    },
    {
      "cell_type": "markdown",
      "metadata": {
        "id": "jg25Fq9XoMEF"
      },
      "source": [
        "## I. Logistic Regression"
      ]
    },
    {
      "cell_type": "markdown",
      "metadata": {
        "id": "IMmY7LyEoMEG"
      },
      "source": []
    },
    {
      "cell_type": "code",
      "execution_count": null,
      "metadata": {
        "id": "4vlXqIuqoMEG"
      },
      "outputs": [],
      "source": []
    },
    {
      "cell_type": "markdown",
      "metadata": {
        "id": "kLqebA_voMEG"
      },
      "source": [
        "## II. LSTM"
      ]
    },
    {
      "cell_type": "markdown",
      "metadata": {
        "id": "oMDWmevvr9ph"
      },
      "source": [
        "After multiple iterations extra features were increasing error rates so we selected open, high, low, and close as the features used to train and the goal is to predict future closing prices."
      ]
    },
    {
      "cell_type": "code",
      "execution_count": 16,
      "metadata": {
        "id": "EAqFYuVtIOwX"
      },
      "outputs": [],
      "source": [
        "features = [\n",
        "    'Open', 'High', 'Low', 'Close']\n",
        "df_stock = df_fe[features]"
      ]
    },
    {
      "cell_type": "markdown",
      "metadata": {
        "id": "pz_ogT14scY0"
      },
      "source": [
        "A 80%/20% train test split was used and scaled fpr training purposes"
      ]
    },
    {
      "cell_type": "code",
      "execution_count": 17,
      "metadata": {
        "id": "AU7-LM3iIqZQ"
      },
      "outputs": [],
      "source": [
        "train_size = int(len(df_stock) * 0.8)\n",
        "df_train = df_stock.iloc[:train_size]\n",
        "df_test = df_stock.iloc[train_size:]\n",
        "\n",
        "scaler = MinMaxScaler()\n",
        "scaled_train = scaler.fit_transform(df_train)"
      ]
    },
    {
      "cell_type": "markdown",
      "metadata": {
        "id": "nWracu0kui-K"
      },
      "source": [
        "To prepare the dataset for time series forecasting, the raw input data was transformed into a supervised learning format using a sliding window approach. Specifically, a function was implemented to generate input-output pairs for the model, where each input represents a fixed-length sequence of past time steps, and the output corresponds to the target value (the closing price) at the next time step.\n",
        "\n",
        "Sequence Construction Details:\n",
        "A sequence length (seq_length) of 20 days was used, meaning each input sample (X) consists of the feature values over 20 consecutive time steps.\n",
        "\n",
        "The corresponding target (y) is the closing price on the 21st day, i.e., the day immediately following the input sequence.\n",
        "\n",
        "The function iterates through the dataset to extract all possible overlapping sequences, enabling the model to learn from a rich set of temporal patterns.\n",
        "\n",
        "Tensor Preparation:\n",
        "The input (X_train) and target (y_train) arrays are converted to PyTorch tensors to facilitate training in a deep learning framework.\n",
        "\n",
        "The target tensor is reshaped to have two dimensions ((N, 1)) to match the expected output shape of the model.\n",
        "\n",
        "Purpose:\n",
        "This preprocessing step transforms the time series problem into a format suitable for sequence-based models like Long Short-Term Memory (LSTM) networks. By leveraging historical windows of data, the model is trained to predict future stock closing prices based on past trends and patterns.\n",
        "\n"
      ]
    },
    {
      "cell_type": "code",
      "execution_count": 18,
      "metadata": {
        "id": "197SxNPtIvnB"
      },
      "outputs": [],
      "source": [
        "def create_sequences(data, seq_length):\n",
        "    xs, ys = [], []\n",
        "    for i in range(len(data) - seq_length):\n",
        "        x = data[i:i + seq_length]\n",
        "        y = data[i + seq_length, features.index('Close')]\n",
        "        xs.append(x)\n",
        "        ys.append(y)\n",
        "    return np.array(xs), np.array(ys)\n",
        "\n",
        "seq_length = 20\n",
        "X_train, y_train = create_sequences(scaled_train, seq_length)\n",
        "X_train = torch.tensor(X_train, dtype=torch.float32)\n",
        "y_train = torch.tensor(y_train, dtype=torch.float32).unsqueeze(1)"
      ]
    },
    {
      "cell_type": "markdown",
      "metadata": {
        "id": "2k1S06PQvJ50"
      },
      "source": [
        "A custom LSTM-based neural network was implemented using PyTorch to predict next-day closing prices from historical stock data.\n",
        "\n",
        "The model consists of a two-layer LSTM network with 128 hidden units per layer and a dropout rate of 0.2 to prevent overfitting. It accepts sequences of multivariate input features and processes them in a batch-first format.\n",
        "\n",
        "Only the final hidden state from the last time step is used for prediction. This output is passed through a fully connected linear layer that maps the hidden state to a single scalar value representing the predicted closing price.\n",
        "\n",
        "This architecture captures temporal patterns effectively, making it suitable for time series forecasting."
      ]
    },
    {
      "cell_type": "code",
      "execution_count": 19,
      "metadata": {
        "id": "JlUGVf_QIzSb"
      },
      "outputs": [],
      "source": [
        "class LSTMModel(nn.Module):\n",
        "    def __init__(self, input_size, hidden_size, num_layers=2):\n",
        "        super(LSTMModel, self).__init__()\n",
        "        self.lstm = nn.LSTM(input_size, hidden_size, num_layers, batch_first=True, dropout=0.2)\n",
        "        self.fc = nn.Linear(hidden_size, 1)\n",
        "\n",
        "    def forward(self, x):\n",
        "        out, _ = self.lstm(x)\n",
        "        return self.fc(out[:, -1, :])\n",
        "\n",
        "model = LSTMModel(input_size=len(features), hidden_size=128)"
      ]
    },
    {
      "cell_type": "code",
      "execution_count": 20,
      "metadata": {
        "colab": {
          "base_uri": "https://localhost:8080/"
        },
        "id": "GjH4jmNaI5Qa",
        "outputId": "0b0f368c-a004-4ff7-9f0d-182db2107850"
      },
      "outputs": [
        {
          "name": "stdout",
          "output_type": "stream",
          "text": [
            "Epoch 0, Loss: 0.0768\n",
            "Epoch 10, Loss: 0.0217\n",
            "Epoch 20, Loss: 0.0024\n",
            "Epoch 30, Loss: 0.0022\n",
            "Epoch 40, Loss: 0.0009\n"
          ]
        }
      ],
      "source": [
        "criterion = nn.MSELoss()\n",
        "optimizer = torch.optim.Adam(model.parameters(), lr=0.001)\n",
        "\n",
        "for epoch in range(50):\n",
        "    model.train()\n",
        "    optimizer.zero_grad()\n",
        "    output = model(X_train)\n",
        "    loss = criterion(output, y_train)\n",
        "    loss.backward()\n",
        "    optimizer.step()\n",
        "    if epoch % 10 == 0:\n",
        "        print(f\"Epoch {epoch}, Loss: {loss.item():.4f}\")"
      ]
    },
    {
      "cell_type": "markdown",
      "metadata": {
        "id": "TixuQHPkwwSv"
      },
      "source": [
        "A recursive forecasting loop was implemented to generate multi-step future predictions using the trained LSTM model. Each prediction is based on a rolling 20 day sequence of past stock data.\n",
        "\n",
        "To begin, the final 20 day sequence from the training data is used as the initial input. This sequence is passed through the model to predict the next day closing price. The predicted value replaces the actual closing price in the corresponding scaled test row to maintain temporal consistency.\n",
        "\n",
        "The updated row is then appended to the input sequence, and the window is shifted forward by one day and dropping the oldest entry and including the newest. This updated 20 day sequence is used to predict the following day’s closing price. The process is repeated iteratively across the entire test period.\n",
        "\n",
        "This step wise prediction strategy allows the model to simulate real world use cases, where future data must be inferred one day at a time based on recent history and prior predictions."
      ]
    },
    {
      "cell_type": "code",
      "execution_count": 21,
      "metadata": {
        "id": "64RGXXOvJNKW"
      },
      "outputs": [],
      "source": [
        "scaled_test = scaler.transform(df_test[features])\n",
        "input_seq = scaled_train[-seq_length:].copy()\n",
        "future_preds = []\n",
        "\n",
        "for i in range(len(df_test)):\n",
        "    input_tensor = torch.tensor(input_seq, dtype=torch.float32).unsqueeze(0)\n",
        "    with torch.no_grad():\n",
        "        next_scaled = model(input_tensor).item()\n",
        "\n",
        "    actual_next_row = scaled_test[i].copy()\n",
        "    actual_next_row[features.index('Close')] = next_scaled\n",
        "\n",
        "    future_preds.append(actual_next_row.copy())\n",
        "    input_seq = np.vstack([input_seq[1:], actual_next_row])\n",
        "\n"
      ]
    },
    {
      "cell_type": "markdown",
      "metadata": {
        "id": "najHkSxVxINh"
      },
      "source": [
        "The predicted values, originally in scaled form, are reshaped to match the scaler’s expected input shape. Using the fitted MinMaxScaler, the data is inverse-transformed to restore the original value range. The closing prices are then extracted from the transformed output, yielding final predictions in actual price units."
      ]
    },
    {
      "cell_type": "code",
      "execution_count": 22,
      "metadata": {
        "id": "qPefj1yOJiZC"
      },
      "outputs": [],
      "source": [
        "pred_arr = np.array(future_preds).reshape(-1, len(features))\n",
        "predicted_closes = scaler.inverse_transform(pred_arr)[:, features.index('Close')]\n"
      ]
    },
    {
      "cell_type": "markdown",
      "metadata": {
        "id": "MZo8raTgyoou"
      },
      "source": [
        "The predicted closing values versus the actual closing values for the test set were plotted to view the differences"
      ]
    },
    {
      "cell_type": "code",
      "execution_count": 23,
      "metadata": {
        "colab": {
          "base_uri": "https://localhost:8080/",
          "height": 507
        },
        "id": "jR-tPMa-JmtJ",
        "outputId": "a6088e74-76dc-4a17-ed45-d110edd62222"
      },
      "outputs": [
        {
          "data": {
            "image/png": "[encoded data removed]",
            "text/plain": [
              "<Figure size 1000x500 with 1 Axes>"
            ]
          },
          "metadata": {},
          "output_type": "display_data"
        }
      ],
      "source": [
        "actual_closes = df_test['Close'].values\n",
        "\n",
        "plt.figure(figsize=(10, 5))\n",
        "plt.plot(df_test.index, actual_closes, label='Actual Future Close')\n",
        "plt.plot(df_test.index,predicted_closes, label='Predicted Future Close')\n",
        "plt.title(\"LSTM True Forecast into Future Tuned LSTM\")\n",
        "plt.xlabel(\"Date\")\n",
        "plt.ylabel(\"Close Price\")\n",
        "plt.legend()\n",
        "plt.grid(True)\n",
        "plt.tight_layout()\n",
        "plt.show()"
      ]
    },
    {
      "cell_type": "code",
      "execution_count": 24,
      "metadata": {
        "colab": {
          "base_uri": "https://localhost:8080/"
        },
        "id": "9TtW3lalguPR",
        "outputId": "96bd21d7-410e-485f-aa1c-f906ab909f20"
      },
      "outputs": [
        {
          "name": "stdout",
          "output_type": "stream",
          "text": [
            "MAE: 61.6618\n",
            "RMSE: 101.2450\n",
            "MAPE: 9.32%\n",
            "R²: 0.8032\n",
            "Directional Accuracy: 48.97%\n"
          ]
        }
      ],
      "source": [
        "from sklearn.metrics import mean_absolute_error, mean_squared_error, r2_score\n",
        "\n",
        "\n",
        "predicted = predicted_closes\n",
        "actual = actual_closes\n",
        "\n",
        "mae = mean_absolute_error(actual, predicted)\n",
        "mse = mean_squared_error(actual, predicted)\n",
        "rmse = np.sqrt(mse)\n",
        "mape = np.mean(np.abs((actual - predicted) / actual)) * 100\n",
        "r2 = r2_score(actual, predicted)\n",
        "directional_accuracy = np.mean(np.sign(np.diff(actual)) == np.sign(np.diff(predicted)))\n",
        "\n",
        "print(f\"MAE: {mae:.4f}\")\n",
        "print(f\"RMSE: {rmse:.4f}\")\n",
        "print(f\"MAPE: {mape:.2f}%\")\n",
        "print(f\"R²: {r2:.4f}\")\n",
        "print(f\"Directional Accuracy: {directional_accuracy:.2%}\")\n"
      ]
    },
    {
      "cell_type": "markdown",
      "metadata": {
        "id": "nMsq9666zazs"
      },
      "source": [
        "The stock price prediction model demonstrates strong regression performance, with a Mean Absolute Error ( MAE ) of 65.04 Dollars, Root Mean Squared Error  ( RMSE )  of 112.59 Dollars, and a Mean Absolute Percentage Error (MAPE) of 9.73%, indicating reasonable accuracy across different price levels. The R² score of 0.7754 shows that the model explains approximately 77.5% of the variance in actual closing prices, which is a solid outcome given the volatility of financial markets. However, the directional accuracy is only 47.43%, falling below the 50% threshold required for reliable trend forecasting. This limits its practical utility for trading applications. To improve, future efforts should focus on enhancing directional prediction through classification models, incorporating technical indicators (e.g., moving averages, RSI), or adopting hybrid approaches that combine both regression and classification techniques.\n"
      ]
    },
    {
      "cell_type": "markdown",
      "metadata": {
        "id": "y1h5UVX_oMEG"
      },
      "source": [
        "# Model Evaluation\n",
        "##  performance measures, results, and conclusions."
      ]
    },
    {
      "cell_type": "markdown",
      "metadata": {
        "id": "oGWPLNKToMEG"
      },
      "source": [
        "## I. Logistic Regression"
      ]
    },
    {
      "cell_type": "markdown",
      "metadata": {
        "id": "ZurzxjARoMEG"
      },
      "source": [
        "## II. LSTM"
      ]
    },
    {
      "cell_type": "markdown",
      "metadata": {
        "id": "O22A-4QWoMEH"
      },
      "source": [
        "# Model Selection"
      ]
    },
    {
      "cell_type": "markdown",
      "metadata": {
        "id": "yHC_KHf7oMEH"
      },
      "source": [
        "## I. Logistic Regression"
      ]
    },
    {
      "cell_type": "markdown",
      "metadata": {
        "id": "Dq1tIL0yoMEH"
      },
      "source": [
        "## II. LSTM"
      ]
    },
    {
      "cell_type": "markdown",
      "metadata": {
        "id": "XU3-lJOuoMEH"
      },
      "source": [
        "# Deployment - A discussion of either the hypothetical deployment of the model or the actual deployment of the model if it has been deployed."
      ]
    },
    {
      "cell_type": "markdown",
      "metadata": {
        "id": "MvajoZZfbZ-Y"
      },
      "source": [
        "The system facilitates dynamic user engagement and adaptability through custom model configuration and retraining on historical stock data. This feature empowers end-users to experiment with diverse model architectures and hyperparameters, evaluate comparative performance, and select the optimal configuration for forecasting the subsequent 20-day price trends of a specified stock ticker.\n",
        "\n",
        "We propose a mobile/web application enabling users to select a stock ticker, customize Long Short-Term Memory (LSTM) model parameters, and train the model on historical data. The application will visualize performance through charts and provide error statistics. Users can choose to utilize the current model version or save it for comparison with other experimental iterations, ultimately finalizing a model to predict the subsequent 20-day stock movements. Over time, the application will provide updates on the model's predictive accuracy. Each model will be ticker-specific, allowing users to maintain multiple models per ticker within their portfolio, thereby aiding in investment decision-making.\n",
        "\n",
        "\n",
        "\n",
        "Sample JSON Below\n"
      ]
    },
    {
      "cell_type": "code",
      "execution_count": 25,
      "metadata": {
        "id": "xNtCMUXIbZTK"
      },
      "outputs": [
        {
          "data": {
            "text/plain": [
              "{'model': 'LSTM',\n",
              " 'ticker': 'AAPL',\n",
              " 'params': {'input_window': 20,\n",
              "  'hidden_size': 64,\n",
              "  'num_layers': 2,\n",
              "  'dropout': 0.2,\n",
              "  'learning_rate': 0.001,\n",
              "  'epochs': 100,\n",
              "  'batch_size': 32}}"
            ]
          },
          "execution_count": 25,
          "metadata": {},
          "output_type": "execute_result"
        }
      ],
      "source": [
        "{\n",
        "  \"model\": \"LSTM\",\n",
        "  \"ticker\": \"AAPL\",\n",
        "  \"params\": {\n",
        "    \"input_window\": 20,\n",
        "    \"hidden_size\": 64,\n",
        "    \"num_layers\": 2,\n",
        "    \"dropout\": 0.2,\n",
        "    \"learning_rate\": 0.001,\n",
        "    \"epochs\": 100,\n",
        "    \"batch_size\": 32\n",
        "  }\n",
        "}"
      ]
    },
    {
      "cell_type": "markdown",
      "metadata": {
        "id": "AdXGz8fqbiJK"
      },
      "source": [
        "All model training and evaluation are performed locally on the user’s device (e.g., laptop, Jetson Orin, or other edge platforms). This design ensures:\n",
        "\n",
        "- Low latency\n",
        "- No reliance on cloud connectivity\n",
        "- Full data privacy\n",
        "- Cost efficiency in terms of compute resources"
      ]
    },
    {
      "cell_type": "markdown",
      "metadata": {
        "id": "ftVCS0qIoMEH"
      },
      "source": [
        "# Discussion and conclusions – address the problem statement and recommendation."
      ]
    },
    {
      "cell_type": "code",
      "execution_count": 26,
      "metadata": {},
      "outputs": [],
      "source": [
        "import numpy as np\n",
        "\n",
        "np.save(\"lstm_preds.npy\", predicted_closes)\n",
        "np.save(\"lstm_actuals.npy\", actual_closes)"
      ]
    }
  ],
  "metadata": {
    "colab": {
      "provenance": []
    },
    "kernelspec": {
      "display_name": "Python 3",
      "name": "python3"
    },
    "language_info": {
      "codemirror_mode": {
        "name": "ipython",
        "version": 3
      },
      "file_extension": ".py",
      "mimetype": "text/x-python",
      "name": "python",
      "nbconvert_exporter": "python",
      "pygments_lexer": "ipython3",
      "version": "3.10.16"
    }
  },
  "nbformat": 4,
  "nbformat_minor": 0
}
