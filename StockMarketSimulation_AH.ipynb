{
 "cells": [
  {
   "cell_type": "code",
   "execution_count": 138,
   "id": "af329c48",
   "metadata": {},
   "outputs": [],
   "source": [
    "import pandas as pd\n",
    "import os\n",
    "from IPython.display import display, HTML\n",
    "import matplotlib.pyplot as plt\n",
    "import seaborn as sns\n",
    "from sklearn.preprocessing import StandardScaler\n",
    "from sklearn.model_selection import train_test_split\n",
    "from sklearn.linear_model import LinearRegression\n",
    "from sklearn.metrics import mean_absolute_error\n",
    "from sklearn.metrics import mean_squared_error\n",
    "import numpy as np\n",
    "from tensorflow.keras.models import Sequential\n",
    "from tensorflow.keras.layers import LSTM, Dense, Dropout\n",
    "from sklearn.preprocessing import LabelEncoder\n",
    "from sklearn.metrics import accuracy_score, precision_score, recall_score, f1_score, confusion_matrix, ConfusionMatrixDisplay\n"
   ]
  },
  {
   "cell_type": "code",
   "execution_count": 139,
   "id": "f69a53bd",
   "metadata": {},
   "outputs": [],
   "source": [
    "def display_scrollable_df(df, max_rows=5, height=300):\n",
    "    display(HTML(df.head(max_rows).to_html(max_rows=max_rows, max_cols=100, escape=False)))\n",
    "    display(HTML(f\"\"\"<style>\n",
    "        .output_scroll {{\n",
    "            max-height: {height}px;\n",
    "            overflow-y: auto;\n",
    "        }}\n",
    "    </style>\"\"\"))"
   ]
  },
  {
   "cell_type": "code",
   "execution_count": 140,
   "id": "77c08874",
   "metadata": {},
   "outputs": [
    {
     "name": "stdout",
     "output_type": "stream",
     "text": [
      "Stock Portfolio Data with Prices and Indices Dataset:\n",
      "\n",
      "Portfolio:\n"
     ]
    },
    {
     "data": {
      "text/html": [
       "<table border=\"1\" class=\"dataframe\">\n",
       "  <thead>\n",
       "    <tr style=\"text-align: right;\">\n",
       "      <th></th>\n",
       "      <th>Ticker</th>\n",
       "      <th>Quantity</th>\n",
       "      <th>Sector</th>\n",
       "      <th>Close</th>\n",
       "      <th>Weight</th>\n",
       "    </tr>\n",
       "  </thead>\n",
       "  <tbody>\n",
       "    <tr>\n",
       "      <th>0</th>\n",
       "      <td>AAPL</td>\n",
       "      <td>1</td>\n",
       "      <td>IT</td>\n",
       "      <td>218.270004</td>\n",
       "      <td>3.461290</td>\n",
       "    </tr>\n",
       "    <tr>\n",
       "      <th>1</th>\n",
       "      <td>ADAP</td>\n",
       "      <td>1</td>\n",
       "      <td>Pharmaceuticals</td>\n",
       "      <td>0.291000</td>\n",
       "      <td>0.004615</td>\n",
       "    </tr>\n",
       "    <tr>\n",
       "      <th>2</th>\n",
       "      <td>AGCO</td>\n",
       "      <td>1</td>\n",
       "      <td>Agriculture</td>\n",
       "      <td>93.089996</td>\n",
       "      <td>1.476206</td>\n",
       "    </tr>\n",
       "    <tr>\n",
       "      <th>3</th>\n",
       "      <td>BA</td>\n",
       "      <td>2</td>\n",
       "      <td>Military Engineering</td>\n",
       "      <td>178.110001</td>\n",
       "      <td>2.824439</td>\n",
       "    </tr>\n",
       "    <tr>\n",
       "      <th>4</th>\n",
       "      <td>BG</td>\n",
       "      <td>4</td>\n",
       "      <td>Agriculture</td>\n",
       "      <td>73.250000</td>\n",
       "      <td>1.161586</td>\n",
       "    </tr>\n",
       "  </tbody>\n",
       "</table>"
      ],
      "text/plain": [
       "<IPython.core.display.HTML object>"
      ]
     },
     "metadata": {},
     "output_type": "display_data"
    },
    {
     "data": {
      "text/html": [
       "<style>\n",
       "        .output_scroll {\n",
       "            max-height: 300px;\n",
       "            overflow-y: auto;\n",
       "        }\n",
       "    </style>"
      ],
      "text/plain": [
       "<IPython.core.display.HTML object>"
      ]
     },
     "metadata": {},
     "output_type": "display_data"
    },
    {
     "name": "stdout",
     "output_type": "stream",
     "text": [
      "\n",
      "Portfolio Prices:\n"
     ]
    },
    {
     "data": {
      "text/html": [
       "<table border=\"1\" class=\"dataframe\">\n",
       "  <thead>\n",
       "    <tr style=\"text-align: right;\">\n",
       "      <th></th>\n",
       "      <th>Date</th>\n",
       "      <th>Ticker</th>\n",
       "      <th>Open</th>\n",
       "      <th>High</th>\n",
       "      <th>Low</th>\n",
       "      <th>Close</th>\n",
       "      <th>Adjusted</th>\n",
       "      <th>Returns</th>\n",
       "      <th>Volume</th>\n",
       "    </tr>\n",
       "  </thead>\n",
       "  <tbody>\n",
       "    <tr>\n",
       "      <th>0</th>\n",
       "      <td>2020-01-03</td>\n",
       "      <td>JPM</td>\n",
       "      <td>137.500000</td>\n",
       "      <td>139.229996</td>\n",
       "      <td>137.080002</td>\n",
       "      <td>138.339996</td>\n",
       "      <td>119.874138</td>\n",
       "      <td>-0.013197</td>\n",
       "      <td>10386800</td>\n",
       "    </tr>\n",
       "    <tr>\n",
       "      <th>1</th>\n",
       "      <td>2020-01-03</td>\n",
       "      <td>KO</td>\n",
       "      <td>54.320000</td>\n",
       "      <td>54.990002</td>\n",
       "      <td>54.090000</td>\n",
       "      <td>54.689999</td>\n",
       "      <td>46.494698</td>\n",
       "      <td>-0.005455</td>\n",
       "      <td>11354500</td>\n",
       "    </tr>\n",
       "    <tr>\n",
       "      <th>2</th>\n",
       "      <td>2020-01-03</td>\n",
       "      <td>LMT</td>\n",
       "      <td>404.019989</td>\n",
       "      <td>417.170013</td>\n",
       "      <td>403.000000</td>\n",
       "      <td>413.739990</td>\n",
       "      <td>359.312317</td>\n",
       "      <td>0.035981</td>\n",
       "      <td>2990100</td>\n",
       "    </tr>\n",
       "    <tr>\n",
       "      <th>3</th>\n",
       "      <td>2020-01-03</td>\n",
       "      <td>MS</td>\n",
       "      <td>51.220001</td>\n",
       "      <td>51.450001</td>\n",
       "      <td>50.830002</td>\n",
       "      <td>51.200001</td>\n",
       "      <td>43.273079</td>\n",
       "      <td>-0.016142</td>\n",
       "      <td>6706000</td>\n",
       "    </tr>\n",
       "    <tr>\n",
       "      <th>4</th>\n",
       "      <td>2020-01-03</td>\n",
       "      <td>MSCI</td>\n",
       "      <td>262.200012</td>\n",
       "      <td>263.579987</td>\n",
       "      <td>259.269989</td>\n",
       "      <td>260.750000</td>\n",
       "      <td>248.019470</td>\n",
       "      <td>-0.019921</td>\n",
       "      <td>459700</td>\n",
       "    </tr>\n",
       "  </tbody>\n",
       "</table>"
      ],
      "text/plain": [
       "<IPython.core.display.HTML object>"
      ]
     },
     "metadata": {},
     "output_type": "display_data"
    },
    {
     "data": {
      "text/html": [
       "<style>\n",
       "        .output_scroll {\n",
       "            max-height: 300px;\n",
       "            overflow-y: auto;\n",
       "        }\n",
       "    </style>"
      ],
      "text/plain": [
       "<IPython.core.display.HTML object>"
      ]
     },
     "metadata": {},
     "output_type": "display_data"
    },
    {
     "name": "stdout",
     "output_type": "stream",
     "text": [
      "\n",
      "NASDAQ:\n"
     ]
    },
    {
     "data": {
      "text/html": [
       "<table border=\"1\" class=\"dataframe\">\n",
       "  <thead>\n",
       "    <tr style=\"text-align: right;\">\n",
       "      <th></th>\n",
       "      <th>Date</th>\n",
       "      <th>Ticker</th>\n",
       "      <th>Open</th>\n",
       "      <th>High</th>\n",
       "      <th>Low</th>\n",
       "      <th>Close</th>\n",
       "      <th>Adjusted</th>\n",
       "      <th>Returns</th>\n",
       "      <th>Volume</th>\n",
       "    </tr>\n",
       "  </thead>\n",
       "  <tbody>\n",
       "    <tr>\n",
       "      <th>0</th>\n",
       "      <td>2020-01-02</td>\n",
       "      <td>IXIC</td>\n",
       "      <td>9039.459961</td>\n",
       "      <td>9093.429688</td>\n",
       "      <td>9010.889648</td>\n",
       "      <td>9092.190430</td>\n",
       "      <td>9092.190430</td>\n",
       "      <td>NaN</td>\n",
       "      <td>2862700000</td>\n",
       "    </tr>\n",
       "    <tr>\n",
       "      <th>1</th>\n",
       "      <td>2020-01-03</td>\n",
       "      <td>IXIC</td>\n",
       "      <td>8976.429688</td>\n",
       "      <td>9065.759766</td>\n",
       "      <td>8976.429688</td>\n",
       "      <td>9020.769531</td>\n",
       "      <td>9020.769531</td>\n",
       "      <td>-0.007855</td>\n",
       "      <td>2586520000</td>\n",
       "    </tr>\n",
       "    <tr>\n",
       "      <th>2</th>\n",
       "      <td>2020-01-06</td>\n",
       "      <td>IXIC</td>\n",
       "      <td>8943.500000</td>\n",
       "      <td>9072.410156</td>\n",
       "      <td>8943.500000</td>\n",
       "      <td>9071.469727</td>\n",
       "      <td>9071.469727</td>\n",
       "      <td>0.005620</td>\n",
       "      <td>2810450000</td>\n",
       "    </tr>\n",
       "    <tr>\n",
       "      <th>3</th>\n",
       "      <td>2020-01-07</td>\n",
       "      <td>IXIC</td>\n",
       "      <td>9076.639648</td>\n",
       "      <td>9091.929688</td>\n",
       "      <td>9042.549805</td>\n",
       "      <td>9068.580078</td>\n",
       "      <td>9068.580078</td>\n",
       "      <td>-0.000319</td>\n",
       "      <td>2381740000</td>\n",
       "    </tr>\n",
       "    <tr>\n",
       "      <th>4</th>\n",
       "      <td>2020-01-08</td>\n",
       "      <td>IXIC</td>\n",
       "      <td>9068.030273</td>\n",
       "      <td>9168.889648</td>\n",
       "      <td>9059.379883</td>\n",
       "      <td>9129.240234</td>\n",
       "      <td>9129.240234</td>\n",
       "      <td>0.006689</td>\n",
       "      <td>2472620000</td>\n",
       "    </tr>\n",
       "  </tbody>\n",
       "</table>"
      ],
      "text/plain": [
       "<IPython.core.display.HTML object>"
      ]
     },
     "metadata": {},
     "output_type": "display_data"
    },
    {
     "data": {
      "text/html": [
       "<style>\n",
       "        .output_scroll {\n",
       "            max-height: 300px;\n",
       "            overflow-y: auto;\n",
       "        }\n",
       "    </style>"
      ],
      "text/plain": [
       "<IPython.core.display.HTML object>"
      ]
     },
     "metadata": {},
     "output_type": "display_data"
    },
    {
     "name": "stdout",
     "output_type": "stream",
     "text": [
      "\n",
      "Dow Jones:\n"
     ]
    },
    {
     "data": {
      "text/html": [
       "<table border=\"1\" class=\"dataframe\">\n",
       "  <thead>\n",
       "    <tr style=\"text-align: right;\">\n",
       "      <th></th>\n",
       "      <th>Date</th>\n",
       "      <th>Ticker</th>\n",
       "      <th>Open</th>\n",
       "      <th>High</th>\n",
       "      <th>Low</th>\n",
       "      <th>Close</th>\n",
       "      <th>Adjusted</th>\n",
       "      <th>Returns</th>\n",
       "      <th>Volume</th>\n",
       "    </tr>\n",
       "  </thead>\n",
       "  <tbody>\n",
       "    <tr>\n",
       "      <th>0</th>\n",
       "      <td>2020-01-02</td>\n",
       "      <td>DJI</td>\n",
       "      <td>28638.970703</td>\n",
       "      <td>28872.800781</td>\n",
       "      <td>28627.769531</td>\n",
       "      <td>28868.800781</td>\n",
       "      <td>28868.800781</td>\n",
       "      <td>NaN</td>\n",
       "      <td>251820000</td>\n",
       "    </tr>\n",
       "    <tr>\n",
       "      <th>1</th>\n",
       "      <td>2020-01-03</td>\n",
       "      <td>DJI</td>\n",
       "      <td>28553.330078</td>\n",
       "      <td>28716.310547</td>\n",
       "      <td>28500.359375</td>\n",
       "      <td>28634.880859</td>\n",
       "      <td>28634.880859</td>\n",
       "      <td>-0.008103</td>\n",
       "      <td>239590000</td>\n",
       "    </tr>\n",
       "    <tr>\n",
       "      <th>2</th>\n",
       "      <td>2020-01-06</td>\n",
       "      <td>DJI</td>\n",
       "      <td>28465.500000</td>\n",
       "      <td>28708.019531</td>\n",
       "      <td>28418.630859</td>\n",
       "      <td>28703.380859</td>\n",
       "      <td>28703.380859</td>\n",
       "      <td>0.002392</td>\n",
       "      <td>252760000</td>\n",
       "    </tr>\n",
       "    <tr>\n",
       "      <th>3</th>\n",
       "      <td>2020-01-07</td>\n",
       "      <td>DJI</td>\n",
       "      <td>28639.179688</td>\n",
       "      <td>28685.500000</td>\n",
       "      <td>28565.279297</td>\n",
       "      <td>28583.679688</td>\n",
       "      <td>28583.679688</td>\n",
       "      <td>-0.004170</td>\n",
       "      <td>258900000</td>\n",
       "    </tr>\n",
       "    <tr>\n",
       "      <th>4</th>\n",
       "      <td>2020-01-08</td>\n",
       "      <td>DJI</td>\n",
       "      <td>28556.140625</td>\n",
       "      <td>28866.179688</td>\n",
       "      <td>28522.509766</td>\n",
       "      <td>28745.089844</td>\n",
       "      <td>28745.089844</td>\n",
       "      <td>0.005647</td>\n",
       "      <td>291750000</td>\n",
       "    </tr>\n",
       "  </tbody>\n",
       "</table>"
      ],
      "text/plain": [
       "<IPython.core.display.HTML object>"
      ]
     },
     "metadata": {},
     "output_type": "display_data"
    },
    {
     "data": {
      "text/html": [
       "<style>\n",
       "        .output_scroll {\n",
       "            max-height: 300px;\n",
       "            overflow-y: auto;\n",
       "        }\n",
       "    </style>"
      ],
      "text/plain": [
       "<IPython.core.display.HTML object>"
      ]
     },
     "metadata": {},
     "output_type": "display_data"
    },
    {
     "name": "stdout",
     "output_type": "stream",
     "text": [
      "\n",
      "S&P 500:\n"
     ]
    },
    {
     "data": {
      "text/html": [
       "<table border=\"1\" class=\"dataframe\">\n",
       "  <thead>\n",
       "    <tr style=\"text-align: right;\">\n",
       "      <th></th>\n",
       "      <th>Date</th>\n",
       "      <th>Ticker</th>\n",
       "      <th>Open</th>\n",
       "      <th>High</th>\n",
       "      <th>Low</th>\n",
       "      <th>Close</th>\n",
       "      <th>Adjusted</th>\n",
       "      <th>Returns</th>\n",
       "      <th>Volume</th>\n",
       "    </tr>\n",
       "  </thead>\n",
       "  <tbody>\n",
       "    <tr>\n",
       "      <th>0</th>\n",
       "      <td>2020-01-02</td>\n",
       "      <td>GSPC</td>\n",
       "      <td>3244.669922</td>\n",
       "      <td>3258.139893</td>\n",
       "      <td>3235.530029</td>\n",
       "      <td>3257.850098</td>\n",
       "      <td>3257.850098</td>\n",
       "      <td>NaN</td>\n",
       "      <td>3459930000</td>\n",
       "    </tr>\n",
       "    <tr>\n",
       "      <th>1</th>\n",
       "      <td>2020-01-03</td>\n",
       "      <td>GSPC</td>\n",
       "      <td>3226.360107</td>\n",
       "      <td>3246.149902</td>\n",
       "      <td>3222.340088</td>\n",
       "      <td>3234.850098</td>\n",
       "      <td>3234.850098</td>\n",
       "      <td>-0.007060</td>\n",
       "      <td>3484700000</td>\n",
       "    </tr>\n",
       "    <tr>\n",
       "      <th>2</th>\n",
       "      <td>2020-01-06</td>\n",
       "      <td>GSPC</td>\n",
       "      <td>3217.550049</td>\n",
       "      <td>3246.840088</td>\n",
       "      <td>3214.639893</td>\n",
       "      <td>3246.280029</td>\n",
       "      <td>3246.280029</td>\n",
       "      <td>0.003533</td>\n",
       "      <td>3702460000</td>\n",
       "    </tr>\n",
       "    <tr>\n",
       "      <th>3</th>\n",
       "      <td>2020-01-07</td>\n",
       "      <td>GSPC</td>\n",
       "      <td>3241.860107</td>\n",
       "      <td>3244.909912</td>\n",
       "      <td>3232.429932</td>\n",
       "      <td>3237.179932</td>\n",
       "      <td>3237.179932</td>\n",
       "      <td>-0.002803</td>\n",
       "      <td>3435910000</td>\n",
       "    </tr>\n",
       "    <tr>\n",
       "      <th>4</th>\n",
       "      <td>2020-01-08</td>\n",
       "      <td>GSPC</td>\n",
       "      <td>3238.590088</td>\n",
       "      <td>3267.070068</td>\n",
       "      <td>3236.669922</td>\n",
       "      <td>3253.050049</td>\n",
       "      <td>3253.050049</td>\n",
       "      <td>0.004902</td>\n",
       "      <td>3726840000</td>\n",
       "    </tr>\n",
       "  </tbody>\n",
       "</table>"
      ],
      "text/plain": [
       "<IPython.core.display.HTML object>"
      ]
     },
     "metadata": {},
     "output_type": "display_data"
    },
    {
     "data": {
      "text/html": [
       "<style>\n",
       "        .output_scroll {\n",
       "            max-height: 300px;\n",
       "            overflow-y: auto;\n",
       "        }\n",
       "    </style>"
      ],
      "text/plain": [
       "<IPython.core.display.HTML object>"
      ]
     },
     "metadata": {},
     "output_type": "display_data"
    }
   ],
   "source": [
    "# Load Dataset 1 - Stock Portfolio Data with Process and Indices\n",
    "portfolio_path = r\"C:\\Users\\anitr\\AAI510_Group6Project\\AAI510_Group6Project\\Stock Portfolio Data with Prices and Indices\"\n",
    "\n",
    "portfolio_df = pd.read_csv(os.path.join(portfolio_path, \"portfolio.csv\"))\n",
    "portfolio_prices_df = pd.read_csv(os.path.join(portfolio_path, \"portfolio_prices.csv\"))\n",
    "nasdaq_df = pd.read_csv(os.path.join(portfolio_path, \"NASDAQ.csv\"))\n",
    "dow_jones_df = pd.read_csv(os.path.join(portfolio_path, \"dow_jones.csv\"))\n",
    "sp500_df = pd.read_csv(os.path.join(portfolio_path, \"sp500.csv\"))\n",
    "\n",
    "print(\"Stock Portfolio Data with Prices and Indices Dataset:\")\n",
    "\n",
    "print(\"\\nPortfolio:\")\n",
    "display_scrollable_df(portfolio_df.head())\n",
    "\n",
    "print(\"\\nPortfolio Prices:\")\n",
    "display_scrollable_df(portfolio_prices_df.head())\n",
    "\n",
    "print(\"\\nNASDAQ:\")\n",
    "display_scrollable_df(nasdaq_df.head())\n",
    "\n",
    "print(\"\\nDow Jones:\")\n",
    "display_scrollable_df(dow_jones_df.head())\n",
    "\n",
    "print(\"\\nS&P 500:\")\n",
    "display_scrollable_df(sp500_df.head())\n"
   ]
  },
  {
   "cell_type": "code",
   "execution_count": 141,
   "id": "b86ddac2",
   "metadata": {},
   "outputs": [
    {
     "name": "stdout",
     "output_type": "stream",
     "text": [
      "World Stock Prices Dataset:\n"
     ]
    },
    {
     "data": {
      "text/html": [
       "<table border=\"1\" class=\"dataframe\">\n",
       "  <thead>\n",
       "    <tr style=\"text-align: right;\">\n",
       "      <th></th>\n",
       "      <th>Date</th>\n",
       "      <th>Open</th>\n",
       "      <th>High</th>\n",
       "      <th>Low</th>\n",
       "      <th>Close</th>\n",
       "      <th>Volume</th>\n",
       "      <th>Dividends</th>\n",
       "      <th>Stock Splits</th>\n",
       "      <th>Brand_Name</th>\n",
       "      <th>Ticker</th>\n",
       "      <th>Industry_Tag</th>\n",
       "      <th>Country</th>\n",
       "      <th>Capital Gains</th>\n",
       "    </tr>\n",
       "  </thead>\n",
       "  <tbody>\n",
       "    <tr>\n",
       "      <th>0</th>\n",
       "      <td>2025-05-30 00:00:00-04:00</td>\n",
       "      <td>7.020000</td>\n",
       "      <td>7.240000</td>\n",
       "      <td>6.920000</td>\n",
       "      <td>7.100000</td>\n",
       "      <td>12750600.0</td>\n",
       "      <td>0.0</td>\n",
       "      <td>0.0</td>\n",
       "      <td>peloton</td>\n",
       "      <td>PTON</td>\n",
       "      <td>fitness</td>\n",
       "      <td>usa</td>\n",
       "      <td>NaN</td>\n",
       "    </tr>\n",
       "    <tr>\n",
       "      <th>1</th>\n",
       "      <td>2025-05-30 00:00:00-04:00</td>\n",
       "      <td>102.639999</td>\n",
       "      <td>102.940002</td>\n",
       "      <td>100.790001</td>\n",
       "      <td>102.000000</td>\n",
       "      <td>1505500.0</td>\n",
       "      <td>0.0</td>\n",
       "      <td>0.0</td>\n",
       "      <td>crocs</td>\n",
       "      <td>CROX</td>\n",
       "      <td>footwear</td>\n",
       "      <td>usa</td>\n",
       "      <td>NaN</td>\n",
       "    </tr>\n",
       "    <tr>\n",
       "      <th>2</th>\n",
       "      <td>2025-05-30 00:00:00-04:00</td>\n",
       "      <td>71.610001</td>\n",
       "      <td>72.470001</td>\n",
       "      <td>71.610001</td>\n",
       "      <td>72.099998</td>\n",
       "      <td>28013500.0</td>\n",
       "      <td>0.0</td>\n",
       "      <td>0.0</td>\n",
       "      <td>the coca-cola company</td>\n",
       "      <td>KO</td>\n",
       "      <td>food & beverage</td>\n",
       "      <td>usa</td>\n",
       "      <td>NaN</td>\n",
       "    </tr>\n",
       "    <tr>\n",
       "      <th>3</th>\n",
       "      <td>2025-05-30 00:00:00-04:00</td>\n",
       "      <td>125.080002</td>\n",
       "      <td>126.190002</td>\n",
       "      <td>123.750000</td>\n",
       "      <td>124.510002</td>\n",
       "      <td>82500.0</td>\n",
       "      <td>0.0</td>\n",
       "      <td>0.0</td>\n",
       "      <td>adidas</td>\n",
       "      <td>ADDYY</td>\n",
       "      <td>apparel</td>\n",
       "      <td>germany</td>\n",
       "      <td>NaN</td>\n",
       "    </tr>\n",
       "    <tr>\n",
       "      <th>4</th>\n",
       "      <td>2025-05-30 00:00:00-04:00</td>\n",
       "      <td>294.970001</td>\n",
       "      <td>295.750000</td>\n",
       "      <td>291.630005</td>\n",
       "      <td>294.049988</td>\n",
       "      <td>5251700.0</td>\n",
       "      <td>0.0</td>\n",
       "      <td>0.0</td>\n",
       "      <td>american express</td>\n",
       "      <td>AXP</td>\n",
       "      <td>finance</td>\n",
       "      <td>usa</td>\n",
       "      <td>NaN</td>\n",
       "    </tr>\n",
       "  </tbody>\n",
       "</table>"
      ],
      "text/plain": [
       "<IPython.core.display.HTML object>"
      ]
     },
     "metadata": {},
     "output_type": "display_data"
    },
    {
     "data": {
      "text/html": [
       "<style>\n",
       "        .output_scroll {\n",
       "            max-height: 300px;\n",
       "            overflow-y: auto;\n",
       "        }\n",
       "    </style>"
      ],
      "text/plain": [
       "<IPython.core.display.HTML object>"
      ]
     },
     "metadata": {},
     "output_type": "display_data"
    }
   ],
   "source": [
    "# Load Dataset 2 - World Stock Prices (Daily Updating)\n",
    "world_path = r\"C:\\Users\\anitr\\AAI510_Group6Project\\AAI510_Group6Project\\World Stock Prices (Daily Updating)\\World-Stock-Prices-Dataset.csv\"\n",
    "\n",
    "world_df = pd.read_csv(world_path)\n",
    "\n",
    "print(\"World Stock Prices Dataset:\")\n",
    "display_scrollable_df(world_df)"
   ]
  },
  {
   "cell_type": "code",
   "execution_count": null,
   "id": "fcf34617",
   "metadata": {},
   "outputs": [
    {
     "name": "stdout",
     "output_type": "stream",
     "text": [
      "Stock Market Simulation Dataset:\n"
     ]
    },
    {
     "data": {
      "text/html": [
       "<table border=\"1\" class=\"dataframe\">\n",
       "  <thead>\n",
       "    <tr style=\"text-align: right;\">\n",
       "      <th></th>\n",
       "      <th>Date</th>\n",
       "      <th>Company</th>\n",
       "      <th>Sector</th>\n",
       "      <th>Open</th>\n",
       "      <th>High</th>\n",
       "      <th>Low</th>\n",
       "      <th>Close</th>\n",
       "      <th>Volume</th>\n",
       "      <th>Market_Cap</th>\n",
       "      <th>PE_Ratio</th>\n",
       "      <th>Dividend_Yield</th>\n",
       "      <th>Volatility</th>\n",
       "      <th>Sentiment_Score</th>\n",
       "      <th>Trend</th>\n",
       "    </tr>\n",
       "  </thead>\n",
       "  <tbody>\n",
       "    <tr>\n",
       "      <th>0</th>\n",
       "      <td>2022-01-01</td>\n",
       "      <td>Uber</td>\n",
       "      <td>Technology</td>\n",
       "      <td>100.000000</td>\n",
       "      <td>101.036120</td>\n",
       "      <td>97.477809</td>\n",
       "      <td>100.000000</td>\n",
       "      <td>171958</td>\n",
       "      <td>5.156585e+11</td>\n",
       "      <td>24.253218</td>\n",
       "      <td>0.163090</td>\n",
       "      <td>0.047484</td>\n",
       "      <td>0.939232</td>\n",
       "      <td>Bearish</td>\n",
       "    </tr>\n",
       "    <tr>\n",
       "      <th>1</th>\n",
       "      <td>2022-01-02</td>\n",
       "      <td>Tesla</td>\n",
       "      <td>Automotive</td>\n",
       "      <td>100.071106</td>\n",
       "      <td>102.037960</td>\n",
       "      <td>97.152675</td>\n",
       "      <td>100.071106</td>\n",
       "      <td>196867</td>\n",
       "      <td>9.755658e+11</td>\n",
       "      <td>18.602848</td>\n",
       "      <td>0.288515</td>\n",
       "      <td>0.022472</td>\n",
       "      <td>0.469417</td>\n",
       "      <td>Bearish</td>\n",
       "    </tr>\n",
       "    <tr>\n",
       "      <th>2</th>\n",
       "      <td>2022-01-03</td>\n",
       "      <td>Panasonic</td>\n",
       "      <td>Finance</td>\n",
       "      <td>99.857828</td>\n",
       "      <td>101.517497</td>\n",
       "      <td>98.108097</td>\n",
       "      <td>99.857828</td>\n",
       "      <td>181932</td>\n",
       "      <td>4.595300e+11</td>\n",
       "      <td>10.728933</td>\n",
       "      <td>2.221827</td>\n",
       "      <td>0.019991</td>\n",
       "      <td>0.399193</td>\n",
       "      <td>Bullish</td>\n",
       "    </tr>\n",
       "    <tr>\n",
       "      <th>3</th>\n",
       "      <td>2022-01-04</td>\n",
       "      <td>Tencent</td>\n",
       "      <td>Automotive</td>\n",
       "      <td>98.851663</td>\n",
       "      <td>101.303783</td>\n",
       "      <td>96.998218</td>\n",
       "      <td>98.851663</td>\n",
       "      <td>153694</td>\n",
       "      <td>5.577481e+11</td>\n",
       "      <td>14.582696</td>\n",
       "      <td>1.377740</td>\n",
       "      <td>0.036166</td>\n",
       "      <td>0.705853</td>\n",
       "      <td>Stable</td>\n",
       "    </tr>\n",
       "    <tr>\n",
       "      <th>4</th>\n",
       "      <td>2022-01-05</td>\n",
       "      <td>Wells Fargo</td>\n",
       "      <td>Automotive</td>\n",
       "      <td>98.391118</td>\n",
       "      <td>99.990486</td>\n",
       "      <td>96.230707</td>\n",
       "      <td>98.391118</td>\n",
       "      <td>169879</td>\n",
       "      <td>8.607714e+11</td>\n",
       "      <td>37.491114</td>\n",
       "      <td>3.110198</td>\n",
       "      <td>0.034770</td>\n",
       "      <td>-0.768354</td>\n",
       "      <td>Stable</td>\n",
       "    </tr>\n",
       "  </tbody>\n",
       "</table>"
      ],
      "text/plain": [
       "<IPython.core.display.HTML object>"
      ]
     },
     "metadata": {},
     "output_type": "display_data"
    },
    {
     "data": {
      "text/html": [
       "<style>\n",
       "        .output_scroll {\n",
       "            max-height: 300px;\n",
       "            overflow-y: auto;\n",
       "        }\n",
       "    </style>"
      ],
      "text/plain": [
       "<IPython.core.display.HTML object>"
      ]
     },
     "metadata": {},
     "output_type": "display_data"
    }
   ],
   "source": [
    "# Load Dataset 3 - Stock Market Simulation\n",
    "sim_path = r\"C:\\Users\\anitr\\AAI510_Group6Project\\AAI510_Group6Project\\Stock Market Simulation\\synthetic_stock_data.csv\"\n",
    " \n",
    "sim_df = pd.read_csv(sim_path)\n",
    "\n",
    "print(\"Stock Market Simulation Dataset:\")\n",
    "display_scrollable_df(sim_df)"
   ]
  },
  {
   "cell_type": "markdown",
   "id": "e9599e2a",
   "metadata": {},
   "source": [
    "# Initial Analysis of Stock Market Simulation Dataset"
   ]
  },
  {
   "cell_type": "code",
   "execution_count": 143,
   "id": "b2ae6750",
   "metadata": {},
   "outputs": [
    {
     "data": {
      "text/plain": [
       "Date                object\n",
       "Company             object\n",
       "Sector              object\n",
       "Open               float64\n",
       "High               float64\n",
       "Low                float64\n",
       "Close              float64\n",
       "Volume               int64\n",
       "Market_Cap         float64\n",
       "PE_Ratio           float64\n",
       "Dividend_Yield     float64\n",
       "Volatility         float64\n",
       "Sentiment_Score    float64\n",
       "Trend               object\n",
       "dtype: object"
      ]
     },
     "execution_count": 143,
     "metadata": {},
     "output_type": "execute_result"
    }
   ],
   "source": [
    "sim_df.dtypes "
   ]
  },
  {
   "cell_type": "code",
   "execution_count": null,
   "id": "077993fe",
   "metadata": {},
   "outputs": [
    {
     "name": "stdout",
     "output_type": "stream",
     "text": [
      "\n",
      "First few rows of the Stock Market Simulation dataset after converting 'Date' to datetime:\n"
     ]
    },
    {
     "data": {
      "text/html": [
       "<table border=\"1\" class=\"dataframe\">\n",
       "  <thead>\n",
       "    <tr style=\"text-align: right;\">\n",
       "      <th></th>\n",
       "      <th>Date</th>\n",
       "      <th>Company</th>\n",
       "      <th>Sector</th>\n",
       "      <th>Open</th>\n",
       "      <th>High</th>\n",
       "      <th>Low</th>\n",
       "      <th>Close</th>\n",
       "      <th>Volume</th>\n",
       "      <th>Market_Cap</th>\n",
       "      <th>PE_Ratio</th>\n",
       "      <th>Dividend_Yield</th>\n",
       "      <th>Volatility</th>\n",
       "      <th>Sentiment_Score</th>\n",
       "      <th>Trend</th>\n",
       "    </tr>\n",
       "  </thead>\n",
       "  <tbody>\n",
       "    <tr>\n",
       "      <th>0</th>\n",
       "      <td>2022-01-01</td>\n",
       "      <td>Uber</td>\n",
       "      <td>Technology</td>\n",
       "      <td>100.000000</td>\n",
       "      <td>101.036120</td>\n",
       "      <td>97.477809</td>\n",
       "      <td>100.000000</td>\n",
       "      <td>171958</td>\n",
       "      <td>5.156585e+11</td>\n",
       "      <td>24.253218</td>\n",
       "      <td>0.163090</td>\n",
       "      <td>0.047484</td>\n",
       "      <td>0.939232</td>\n",
       "      <td>Bearish</td>\n",
       "    </tr>\n",
       "    <tr>\n",
       "      <th>1</th>\n",
       "      <td>2022-01-02</td>\n",
       "      <td>Tesla</td>\n",
       "      <td>Automotive</td>\n",
       "      <td>100.071106</td>\n",
       "      <td>102.037960</td>\n",
       "      <td>97.152675</td>\n",
       "      <td>100.071106</td>\n",
       "      <td>196867</td>\n",
       "      <td>9.755658e+11</td>\n",
       "      <td>18.602848</td>\n",
       "      <td>0.288515</td>\n",
       "      <td>0.022472</td>\n",
       "      <td>0.469417</td>\n",
       "      <td>Bearish</td>\n",
       "    </tr>\n",
       "    <tr>\n",
       "      <th>2</th>\n",
       "      <td>2022-01-03</td>\n",
       "      <td>Panasonic</td>\n",
       "      <td>Finance</td>\n",
       "      <td>99.857828</td>\n",
       "      <td>101.517497</td>\n",
       "      <td>98.108097</td>\n",
       "      <td>99.857828</td>\n",
       "      <td>181932</td>\n",
       "      <td>4.595300e+11</td>\n",
       "      <td>10.728933</td>\n",
       "      <td>2.221827</td>\n",
       "      <td>0.019991</td>\n",
       "      <td>0.399193</td>\n",
       "      <td>Bullish</td>\n",
       "    </tr>\n",
       "    <tr>\n",
       "      <th>3</th>\n",
       "      <td>2022-01-04</td>\n",
       "      <td>Tencent</td>\n",
       "      <td>Automotive</td>\n",
       "      <td>98.851663</td>\n",
       "      <td>101.303783</td>\n",
       "      <td>96.998218</td>\n",
       "      <td>98.851663</td>\n",
       "      <td>153694</td>\n",
       "      <td>5.577481e+11</td>\n",
       "      <td>14.582696</td>\n",
       "      <td>1.377740</td>\n",
       "      <td>0.036166</td>\n",
       "      <td>0.705853</td>\n",
       "      <td>Stable</td>\n",
       "    </tr>\n",
       "    <tr>\n",
       "      <th>4</th>\n",
       "      <td>2022-01-05</td>\n",
       "      <td>Wells Fargo</td>\n",
       "      <td>Automotive</td>\n",
       "      <td>98.391118</td>\n",
       "      <td>99.990486</td>\n",
       "      <td>96.230707</td>\n",
       "      <td>98.391118</td>\n",
       "      <td>169879</td>\n",
       "      <td>8.607714e+11</td>\n",
       "      <td>37.491114</td>\n",
       "      <td>3.110198</td>\n",
       "      <td>0.034770</td>\n",
       "      <td>-0.768354</td>\n",
       "      <td>Stable</td>\n",
       "    </tr>\n",
       "  </tbody>\n",
       "</table>"
      ],
      "text/plain": [
       "<IPython.core.display.HTML object>"
      ]
     },
     "metadata": {},
     "output_type": "display_data"
    },
    {
     "data": {
      "text/html": [
       "<style>\n",
       "        .output_scroll {\n",
       "            max-height: 300px;\n",
       "            overflow-y: auto;\n",
       "        }\n",
       "    </style>"
      ],
      "text/plain": [
       "<IPython.core.display.HTML object>"
      ]
     },
     "metadata": {},
     "output_type": "display_data"
    }
   ],
   "source": [
    "# Convert Date column to datetime\n",
    "sim_df['Date'] = pd.to_datetime(sim_df['Date'])\n",
    "\n",
    "# Show the first few rows of the dataset\n",
    "print(\"\\nFirst few rows of the Stock Market Simulation dataset after converting 'Date' to datetime:\")\n",
    "display_scrollable_df(sim_df.head())"
   ]
  },
  {
   "cell_type": "code",
   "execution_count": 145,
   "id": "070dd2bc",
   "metadata": {},
   "outputs": [
    {
     "data": {
      "text/plain": [
       "Date               datetime64[ns]\n",
       "Company                    object\n",
       "Sector                     object\n",
       "Open                      float64\n",
       "High                      float64\n",
       "Low                       float64\n",
       "Close                     float64\n",
       "Volume                      int64\n",
       "Market_Cap                float64\n",
       "PE_Ratio                  float64\n",
       "Dividend_Yield            float64\n",
       "Volatility                float64\n",
       "Sentiment_Score           float64\n",
       "Trend                      object\n",
       "dtype: object"
      ]
     },
     "execution_count": 145,
     "metadata": {},
     "output_type": "execute_result"
    }
   ],
   "source": [
    "sim_df.dtypes "
   ]
  },
  {
   "cell_type": "code",
   "execution_count": 146,
   "id": "1628c82f",
   "metadata": {},
   "outputs": [
    {
     "name": "stdout",
     "output_type": "stream",
     "text": [
      "\n",
      "Missing Values in Stock Market Simulation Dataset:\n",
      "Series([], dtype: int64)\n"
     ]
    }
   ],
   "source": [
    "# Identify any missing values in the dataset\n",
    "missing_values = sim_df.isnull().sum()\n",
    "print(\"\\nMissing Values in Stock Market Simulation Dataset:\")\n",
    "print(missing_values[missing_values > 0])\n"
   ]
  },
  {
   "cell_type": "code",
   "execution_count": 175,
   "id": "38c0993f",
   "metadata": {},
   "outputs": [
    {
     "name": "stdout",
     "output_type": "stream",
     "text": [
      "Open: 0 outliers\n",
      "High: 0 outliers\n",
      "Low: 0 outliers\n",
      "Close: 0 outliers\n",
      "Volume: 0 outliers\n",
      "Market_Cap: 0 outliers\n",
      "PE_Ratio: 0 outliers\n",
      "Dividend_Yield: 0 outliers\n",
      "Volatility: 0 outliers\n",
      "Sentiment_Score: 0 outliers\n"
     ]
    }
   ],
   "source": [
    "# Check got outliers in the numeric columns\n",
    "\n",
    "numeric_cols = ['Open', 'High', 'Low', 'Close', 'Volume', 'Market_Cap',\n",
    "                'PE_Ratio', 'Dividend_Yield', 'Volatility', 'Sentiment_Score']\n",
    "\n",
    "for col in numeric_cols:\n",
    "    Q1 = sim_df[col].quantile(0.25)\n",
    "    Q3 = sim_df[col].quantile(0.75)\n",
    "    IQR = Q3 - Q1\n",
    "    outliers = sim_df[(sim_df[col] < Q1 - 1.5 * IQR) | (sim_df[col] > Q3 + 1.5 * IQR)]\n",
    "    print(f\"{col}: {len(outliers)} outliers\")"
   ]
  },
  {
   "cell_type": "code",
   "execution_count": 149,
   "id": "74900d27",
   "metadata": {},
   "outputs": [
    {
     "name": "stdout",
     "output_type": "stream",
     "text": [
      "\n",
      "Sorted Stock Market Simulation Dataset:\n"
     ]
    },
    {
     "data": {
      "text/html": [
       "<table border=\"1\" class=\"dataframe\">\n",
       "  <thead>\n",
       "    <tr style=\"text-align: right;\">\n",
       "      <th></th>\n",
       "      <th>Date</th>\n",
       "      <th>Company</th>\n",
       "      <th>Sector</th>\n",
       "      <th>Open</th>\n",
       "      <th>High</th>\n",
       "      <th>Low</th>\n",
       "      <th>Close</th>\n",
       "      <th>Volume</th>\n",
       "      <th>Market_Cap</th>\n",
       "      <th>PE_Ratio</th>\n",
       "      <th>Dividend_Yield</th>\n",
       "      <th>Volatility</th>\n",
       "      <th>Sentiment_Score</th>\n",
       "      <th>Trend</th>\n",
       "    </tr>\n",
       "  </thead>\n",
       "  <tbody>\n",
       "    <tr>\n",
       "      <th>59</th>\n",
       "      <td>2022-03-01</td>\n",
       "      <td>AMD</td>\n",
       "      <td>Technology</td>\n",
       "      <td>94.899105</td>\n",
       "      <td>96.225589</td>\n",
       "      <td>92.109628</td>\n",
       "      <td>94.899105</td>\n",
       "      <td>149299</td>\n",
       "      <td>8.482800e+11</td>\n",
       "      <td>23.345571</td>\n",
       "      <td>2.733503</td>\n",
       "      <td>0.014305</td>\n",
       "      <td>-0.205457</td>\n",
       "      <td>Bullish</td>\n",
       "    </tr>\n",
       "    <tr>\n",
       "      <th>157</th>\n",
       "      <td>2022-06-07</td>\n",
       "      <td>AMD</td>\n",
       "      <td>Aerospace</td>\n",
       "      <td>99.660174</td>\n",
       "      <td>100.781793</td>\n",
       "      <td>97.108114</td>\n",
       "      <td>99.660174</td>\n",
       "      <td>168451</td>\n",
       "      <td>6.908697e+11</td>\n",
       "      <td>6.560822</td>\n",
       "      <td>1.582748</td>\n",
       "      <td>0.032110</td>\n",
       "      <td>0.228266</td>\n",
       "      <td>Bullish</td>\n",
       "    </tr>\n",
       "    <tr>\n",
       "      <th>163</th>\n",
       "      <td>2022-06-13</td>\n",
       "      <td>AMD</td>\n",
       "      <td>Consumer Goods</td>\n",
       "      <td>97.967819</td>\n",
       "      <td>99.267942</td>\n",
       "      <td>96.942100</td>\n",
       "      <td>97.967819</td>\n",
       "      <td>143264</td>\n",
       "      <td>7.592768e+11</td>\n",
       "      <td>17.992248</td>\n",
       "      <td>4.253401</td>\n",
       "      <td>0.039356</td>\n",
       "      <td>0.702811</td>\n",
       "      <td>Bullish</td>\n",
       "    </tr>\n",
       "    <tr>\n",
       "      <th>197</th>\n",
       "      <td>2022-07-17</td>\n",
       "      <td>AMD</td>\n",
       "      <td>Consumer Goods</td>\n",
       "      <td>87.502593</td>\n",
       "      <td>89.456457</td>\n",
       "      <td>85.347755</td>\n",
       "      <td>87.502593</td>\n",
       "      <td>192483</td>\n",
       "      <td>5.728553e+11</td>\n",
       "      <td>19.629648</td>\n",
       "      <td>2.250583</td>\n",
       "      <td>0.040467</td>\n",
       "      <td>-0.751785</td>\n",
       "      <td>Stable</td>\n",
       "    </tr>\n",
       "    <tr>\n",
       "      <th>254</th>\n",
       "      <td>2022-09-12</td>\n",
       "      <td>AMD</td>\n",
       "      <td>Finance</td>\n",
       "      <td>97.234069</td>\n",
       "      <td>100.088593</td>\n",
       "      <td>95.890358</td>\n",
       "      <td>97.234069</td>\n",
       "      <td>141412</td>\n",
       "      <td>3.847065e+11</td>\n",
       "      <td>31.511866</td>\n",
       "      <td>1.073339</td>\n",
       "      <td>0.011114</td>\n",
       "      <td>0.887556</td>\n",
       "      <td>Stable</td>\n",
       "    </tr>\n",
       "  </tbody>\n",
       "</table>"
      ],
      "text/plain": [
       "<IPython.core.display.HTML object>"
      ]
     },
     "metadata": {},
     "output_type": "display_data"
    },
    {
     "data": {
      "text/html": [
       "<style>\n",
       "        .output_scroll {\n",
       "            max-height: 300px;\n",
       "            overflow-y: auto;\n",
       "        }\n",
       "    </style>"
      ],
      "text/plain": [
       "<IPython.core.display.HTML object>"
      ]
     },
     "metadata": {},
     "output_type": "display_data"
    }
   ],
   "source": [
    "# Sort by Company and Date\n",
    "sim_df.sort_values(by=['Company', 'Date'], inplace=True)\n",
    "\n",
    "# Display the first few rows of the sorted DataFrame\n",
    "print(\"\\nSorted Stock Market Simulation Dataset:\")\n",
    "display_scrollable_df(sim_df.head())\n"
   ]
  },
  {
   "cell_type": "code",
   "execution_count": 150,
   "id": "27305b20",
   "metadata": {},
   "outputs": [
    {
     "data": {
      "text/html": [
       "<div>\n",
       "<style scoped>\n",
       "    .dataframe tbody tr th:only-of-type {\n",
       "        vertical-align: middle;\n",
       "    }\n",
       "\n",
       "    .dataframe tbody tr th {\n",
       "        vertical-align: top;\n",
       "    }\n",
       "\n",
       "    .dataframe thead th {\n",
       "        text-align: right;\n",
       "    }\n",
       "</style>\n",
       "<table border=\"1\" class=\"dataframe\">\n",
       "  <thead>\n",
       "    <tr style=\"text-align: right;\">\n",
       "      <th></th>\n",
       "      <th>Company</th>\n",
       "      <th>Record Count</th>\n",
       "    </tr>\n",
       "  </thead>\n",
       "  <tbody>\n",
       "    <tr>\n",
       "      <th>0</th>\n",
       "      <td>Moderna</td>\n",
       "      <td>27</td>\n",
       "    </tr>\n",
       "    <tr>\n",
       "      <th>1</th>\n",
       "      <td>Tencent</td>\n",
       "      <td>23</td>\n",
       "    </tr>\n",
       "    <tr>\n",
       "      <th>2</th>\n",
       "      <td>Boeing</td>\n",
       "      <td>23</td>\n",
       "    </tr>\n",
       "    <tr>\n",
       "      <th>3</th>\n",
       "      <td>Panasonic</td>\n",
       "      <td>22</td>\n",
       "    </tr>\n",
       "    <tr>\n",
       "      <th>4</th>\n",
       "      <td>Sony</td>\n",
       "      <td>22</td>\n",
       "    </tr>\n",
       "    <tr>\n",
       "      <th>...</th>\n",
       "      <td>...</td>\n",
       "      <td>...</td>\n",
       "    </tr>\n",
       "    <tr>\n",
       "      <th>58</th>\n",
       "      <td>Spotify</td>\n",
       "      <td>10</td>\n",
       "    </tr>\n",
       "    <tr>\n",
       "      <th>59</th>\n",
       "      <td>Bank of America</td>\n",
       "      <td>9</td>\n",
       "    </tr>\n",
       "    <tr>\n",
       "      <th>60</th>\n",
       "      <td>Pfizer</td>\n",
       "      <td>9</td>\n",
       "    </tr>\n",
       "    <tr>\n",
       "      <th>61</th>\n",
       "      <td>JPMorgan Chase</td>\n",
       "      <td>8</td>\n",
       "    </tr>\n",
       "    <tr>\n",
       "      <th>62</th>\n",
       "      <td>Amazon</td>\n",
       "      <td>8</td>\n",
       "    </tr>\n",
       "  </tbody>\n",
       "</table>\n",
       "<p>63 rows × 2 columns</p>\n",
       "</div>"
      ],
      "text/plain": [
       "            Company  Record Count\n",
       "0           Moderna            27\n",
       "1           Tencent            23\n",
       "2            Boeing            23\n",
       "3         Panasonic            22\n",
       "4              Sony            22\n",
       "..              ...           ...\n",
       "58          Spotify            10\n",
       "59  Bank of America             9\n",
       "60           Pfizer             9\n",
       "61   JPMorgan Chase             8\n",
       "62           Amazon             8\n",
       "\n",
       "[63 rows x 2 columns]"
      ]
     },
     "metadata": {},
     "output_type": "display_data"
    }
   ],
   "source": [
    "# Show record count for all companies \n",
    "company_counts = sim_df['Company'].value_counts().reset_index()\n",
    "company_counts.columns = ['Company', 'Record Count']\n",
    "display(company_counts)\n",
    "\n",
    "\n"
   ]
  },
  {
   "cell_type": "markdown",
   "id": "82ec5a0a",
   "metadata": {},
   "source": [
    "# Moderna Only (Linear Regression)"
   ]
  },
  {
   "cell_type": "code",
   "execution_count": 151,
   "id": "67dd8d00",
   "metadata": {},
   "outputs": [],
   "source": [
    "# Use Moderna to train a model\n",
    "df_moderna = sim_df[sim_df['Company'] == 'Moderna'].copy()\n",
    "df_moderna.sort_values('Date', inplace=True)\n",
    "\n",
    "# Shift target to tomorrow's close\n",
    "df_moderna['Target_Close'] = df_moderna['Close'].shift(-1)\n",
    "\n",
    "# Drop last row (no target available)\n",
    "df_moderna.dropna(inplace=True)"
   ]
  },
  {
   "cell_type": "code",
   "execution_count": 152,
   "id": "810b01f1",
   "metadata": {},
   "outputs": [],
   "source": [
    "# Select features for training\n",
    "features = ['Open', 'High', 'Low', 'Volume', 'Market_Cap', 'PE_Ratio',\n",
    "            'Dividend_Yield', 'Volatility', 'Sentiment_Score']\n",
    "\n",
    "X = df_moderna[features]\n",
    "y = df_moderna['Target_Close']"
   ]
  },
  {
   "cell_type": "code",
   "execution_count": 153,
   "id": "eb73ae59",
   "metadata": {},
   "outputs": [],
   "source": [
    "# Normalize the features\n",
    "scaler = StandardScaler()\n",
    "X_scaled = scaler.fit_transform(X)"
   ]
  },
  {
   "cell_type": "code",
   "execution_count": 154,
   "id": "1c330d25",
   "metadata": {},
   "outputs": [],
   "source": [
    "# Split the data into training and testing sets\n",
    "X_train, X_test, y_train, y_test = train_test_split(\n",
    "    X_scaled, y, test_size=0.2, shuffle=False  \n",
    "    )"
   ]
  },
  {
   "cell_type": "code",
   "execution_count": 155,
   "id": "67fe7b6c",
   "metadata": {},
   "outputs": [
    {
     "name": "stdout",
     "output_type": "stream",
     "text": [
      "Moderna Prediction Results (No Feature Engineering):\n",
      "MAE:  7.37\n",
      "RMSE: 9.64\n"
     ]
    }
   ],
   "source": [
    "# Train the model using Linear Regression\n",
    "model = LinearRegression()\n",
    "model.fit(X_train, y_train)\n",
    "\n",
    "y_pred = model.predict(X_test)\n",
    "\n",
    "lr_mae = mean_absolute_error(y_test, y_pred)\n",
    "lr_rmse = np.sqrt(mean_squared_error(y_test, y_pred))\n",
    "\n",
    "print(f\"Moderna Prediction Results (No Feature Engineering):\")\n",
    "print(f\"MAE:  {lr_mae:.2f}\")\n",
    "print(f\"RMSE: {lr_rmse:.2f}\")"
   ]
  },
  {
   "cell_type": "code",
   "execution_count": 156,
   "id": "edec9285",
   "metadata": {},
   "outputs": [
    {
     "data": {
      "image/png": "[encoded data removed]",
      "text/plain": [
       "<Figure size 1000x500 with 1 Axes>"
      ]
     },
     "metadata": {},
     "output_type": "display_data"
    }
   ],
   "source": [
    "plt.figure(figsize=(10, 5))\n",
    "plt.plot(y_test.values, label='Actual')\n",
    "plt.plot(y_pred, label='Predicted')\n",
    "plt.title(\"Moderna Stock Price: Actual vs Predicted\")\n",
    "plt.xlabel(\"Time (test set index)\")\n",
    "plt.ylabel(\"Close Price\")\n",
    "plt.legend()\n",
    "plt.tight_layout()\n",
    "plt.show()"
   ]
  },
  {
   "cell_type": "markdown",
   "id": "2f34a1f3",
   "metadata": {},
   "source": [
    "# Moderna Only (LSTM)"
   ]
  },
  {
   "cell_type": "code",
   "execution_count": 157,
   "id": "0da9f39a",
   "metadata": {},
   "outputs": [],
   "source": [
    "# LSTM Model\n",
    "\n",
    "# Create features and target\n",
    "df_moderna = sim_df[sim_df['Company'] == 'Moderna'].copy()\n",
    "df_moderna.sort_values('Date', inplace=True)\n",
    "df_moderna.reset_index(drop=True, inplace=True)\n",
    "\n",
    "# Feature engineering\n",
    "df_moderna['Prev_Close'] = df_moderna['Close'].shift(1)\n",
    "df_moderna['MA_3'] = df_moderna['Close'].rolling(window=3).mean()\n",
    "df_moderna['MA_5'] = df_moderna['Close'].rolling(window=5).mean()\n",
    "df_moderna['Range'] = df_moderna['High'] - df_moderna['Low']\n",
    "\n",
    "# Target variable (next day's Close)\n",
    "df_moderna['Target_Close'] = df_moderna['Close'].shift(-1)\n",
    "\n",
    "# Drop rows with NaNs from shift and rolling\n",
    "df_moderna.dropna(inplace=True)"
   ]
  },
  {
   "cell_type": "code",
   "execution_count": 158,
   "id": "ef40b177",
   "metadata": {},
   "outputs": [],
   "source": [
    "# Normalize features\n",
    "features = ['Open', 'High', 'Low', 'Volume', 'Market_Cap', 'PE_Ratio',\n",
    "            'Dividend_Yield', 'Volatility', 'Sentiment_Score',\n",
    "            'Prev_Close', 'MA_3', 'MA_5', 'Range']\n",
    "\n",
    "scaler = StandardScaler()\n",
    "X_scaled = scaler.fit_transform(df_moderna[features])\n",
    "\n",
    "y = df_moderna['Target_Close'].values"
   ]
  },
  {
   "cell_type": "code",
   "execution_count": 159,
   "id": "e96c2f4b",
   "metadata": {},
   "outputs": [],
   "source": [
    "#Create sequences for LSTM\n",
    "def create_sequences(X, y, window=5):\n",
    "    X_seq, y_seq = [], []\n",
    "    for i in range(len(X) - window):\n",
    "        X_seq.append(X[i:i+window])\n",
    "        y_seq.append(y[i+window])\n",
    "    return np.array(X_seq), np.array(y_seq)\n",
    "\n",
    "X_lstm, y_lstm = create_sequences(X_scaled, y, window=5)"
   ]
  },
  {
   "cell_type": "code",
   "execution_count": 160,
   "id": "2c657b5b",
   "metadata": {},
   "outputs": [],
   "source": [
    "# Split the data into training and testing sets\n",
    "split_index = int(len(X_lstm) * 0.8)\n",
    "\n",
    "X_train_2, X_test_2 = X_lstm[:split_index], X_lstm[split_index:]\n",
    "y_train_2, y_test_2 = y_lstm[:split_index], y_lstm[split_index:]"
   ]
  },
  {
   "cell_type": "code",
   "execution_count": 161,
   "id": "f4cbf7c0",
   "metadata": {},
   "outputs": [
    {
     "name": "stdout",
     "output_type": "stream",
     "text": [
      "Epoch 1/50\n"
     ]
    },
    {
     "name": "stderr",
     "output_type": "stream",
     "text": [
      "c:\\Users\\anitr\\miniconda3\\envs\\AAI510\\lib\\site-packages\\keras\\src\\layers\\rnn\\rnn.py:199: UserWarning: Do not pass an `input_shape`/`input_dim` argument to a layer. When using Sequential models, prefer using an `Input(shape)` object as the first layer in the model instead.\n",
      "  super().__init__(**kwargs)\n"
     ]
    },
    {
     "name": "stdout",
     "output_type": "stream",
     "text": [
      "\u001b[1m2/2\u001b[0m \u001b[32m━━━━━━━━━━━━━━━━━━━━\u001b[0m\u001b[37m\u001b[0m \u001b[1m1s\u001b[0m 13ms/step - loss: 12945.0918 \n",
      "Epoch 2/50\n",
      "\u001b[1m2/2\u001b[0m \u001b[32m━━━━━━━━━━━━━━━━━━━━\u001b[0m\u001b[37m\u001b[0m \u001b[1m0s\u001b[0m 13ms/step - loss: 13013.4668\n",
      "Epoch 3/50\n",
      "\u001b[1m2/2\u001b[0m \u001b[32m━━━━━━━━━━━━━━━━━━━━\u001b[0m\u001b[37m\u001b[0m \u001b[1m0s\u001b[0m 12ms/step - loss: 12972.2871\n",
      "Epoch 4/50\n",
      "\u001b[1m2/2\u001b[0m \u001b[32m━━━━━━━━━━━━━━━━━━━━\u001b[0m\u001b[37m\u001b[0m \u001b[1m0s\u001b[0m 13ms/step - loss: 12905.3730\n",
      "Epoch 5/50\n",
      "\u001b[1m2/2\u001b[0m \u001b[32m━━━━━━━━━━━━━━━━━━━━\u001b[0m\u001b[37m\u001b[0m \u001b[1m0s\u001b[0m 12ms/step - loss: 13007.5234\n",
      "Epoch 6/50\n",
      "\u001b[1m2/2\u001b[0m \u001b[32m━━━━━━━━━━━━━━━━━━━━\u001b[0m\u001b[37m\u001b[0m \u001b[1m0s\u001b[0m 12ms/step - loss: 12945.3721\n",
      "Epoch 7/50\n",
      "\u001b[1m2/2\u001b[0m \u001b[32m━━━━━━━━━━━━━━━━━━━━\u001b[0m\u001b[37m\u001b[0m \u001b[1m0s\u001b[0m 12ms/step - loss: 12934.8408\n",
      "Epoch 8/50\n",
      "\u001b[1m2/2\u001b[0m \u001b[32m━━━━━━━━━━━━━━━━━━━━\u001b[0m\u001b[37m\u001b[0m \u001b[1m0s\u001b[0m 12ms/step - loss: 12794.0322\n",
      "Epoch 9/50\n",
      "\u001b[1m2/2\u001b[0m \u001b[32m━━━━━━━━━━━━━━━━━━━━\u001b[0m\u001b[37m\u001b[0m \u001b[1m0s\u001b[0m 11ms/step - loss: 12855.9902\n",
      "Epoch 10/50\n",
      "\u001b[1m2/2\u001b[0m \u001b[32m━━━━━━━━━━━━━━━━━━━━\u001b[0m\u001b[37m\u001b[0m \u001b[1m0s\u001b[0m 12ms/step - loss: 12830.7129\n",
      "Epoch 11/50\n",
      "\u001b[1m2/2\u001b[0m \u001b[32m━━━━━━━━━━━━━━━━━━━━\u001b[0m\u001b[37m\u001b[0m \u001b[1m0s\u001b[0m 13ms/step - loss: 12856.6230\n",
      "Epoch 12/50\n",
      "\u001b[1m2/2\u001b[0m \u001b[32m━━━━━━━━━━━━━━━━━━━━\u001b[0m\u001b[37m\u001b[0m \u001b[1m0s\u001b[0m 14ms/step - loss: 12734.4316\n",
      "Epoch 13/50\n",
      "\u001b[1m2/2\u001b[0m \u001b[32m━━━━━━━━━━━━━━━━━━━━\u001b[0m\u001b[37m\u001b[0m \u001b[1m0s\u001b[0m 13ms/step - loss: 12653.8311\n",
      "Epoch 14/50\n",
      "\u001b[1m2/2\u001b[0m \u001b[32m━━━━━━━━━━━━━━━━━━━━\u001b[0m\u001b[37m\u001b[0m \u001b[1m0s\u001b[0m 12ms/step - loss: 12671.4238\n",
      "Epoch 15/50\n",
      "\u001b[1m2/2\u001b[0m \u001b[32m━━━━━━━━━━━━━━━━━━━━\u001b[0m\u001b[37m\u001b[0m \u001b[1m0s\u001b[0m 13ms/step - loss: 12591.7197\n",
      "Epoch 16/50\n",
      "\u001b[1m2/2\u001b[0m \u001b[32m━━━━━━━━━━━━━━━━━━━━\u001b[0m\u001b[37m\u001b[0m \u001b[1m0s\u001b[0m 13ms/step - loss: 12476.9961\n",
      "Epoch 17/50\n",
      "\u001b[1m2/2\u001b[0m \u001b[32m━━━━━━━━━━━━━━━━━━━━\u001b[0m\u001b[37m\u001b[0m \u001b[1m0s\u001b[0m 12ms/step - loss: 12503.0576\n",
      "Epoch 18/50\n",
      "\u001b[1m2/2\u001b[0m \u001b[32m━━━━━━━━━━━━━━━━━━━━\u001b[0m\u001b[37m\u001b[0m \u001b[1m0s\u001b[0m 12ms/step - loss: 12317.1768\n",
      "Epoch 19/50\n",
      "\u001b[1m2/2\u001b[0m \u001b[32m━━━━━━━━━━━━━━━━━━━━\u001b[0m\u001b[37m\u001b[0m \u001b[1m0s\u001b[0m 13ms/step - loss: 12312.3242\n",
      "Epoch 20/50\n",
      "\u001b[1m2/2\u001b[0m \u001b[32m━━━━━━━━━━━━━━━━━━━━\u001b[0m\u001b[37m\u001b[0m \u001b[1m0s\u001b[0m 12ms/step - loss: 12201.5488\n",
      "Epoch 21/50\n",
      "\u001b[1m2/2\u001b[0m \u001b[32m━━━━━━━━━━━━━━━━━━━━\u001b[0m\u001b[37m\u001b[0m \u001b[1m0s\u001b[0m 12ms/step - loss: 12243.8867\n",
      "Epoch 22/50\n",
      "\u001b[1m2/2\u001b[0m \u001b[32m━━━━━━━━━━━━━━━━━━━━\u001b[0m\u001b[37m\u001b[0m \u001b[1m0s\u001b[0m 13ms/step - loss: 12024.9316\n",
      "Epoch 23/50\n",
      "\u001b[1m2/2\u001b[0m \u001b[32m━━━━━━━━━━━━━━━━━━━━\u001b[0m\u001b[37m\u001b[0m \u001b[1m0s\u001b[0m 13ms/step - loss: 11916.7461\n",
      "Epoch 24/50\n",
      "\u001b[1m2/2\u001b[0m \u001b[32m━━━━━━━━━━━━━━━━━━━━\u001b[0m\u001b[37m\u001b[0m \u001b[1m0s\u001b[0m 11ms/step - loss: 11961.0703\n",
      "Epoch 25/50\n",
      "\u001b[1m2/2\u001b[0m \u001b[32m━━━━━━━━━━━━━━━━━━━━\u001b[0m\u001b[37m\u001b[0m \u001b[1m0s\u001b[0m 12ms/step - loss: 11662.7744\n",
      "Epoch 26/50\n",
      "\u001b[1m2/2\u001b[0m \u001b[32m━━━━━━━━━━━━━━━━━━━━\u001b[0m\u001b[37m\u001b[0m \u001b[1m0s\u001b[0m 13ms/step - loss: 11606.1758\n",
      "Epoch 27/50\n",
      "\u001b[1m2/2\u001b[0m \u001b[32m━━━━━━━━━━━━━━━━━━━━\u001b[0m\u001b[37m\u001b[0m \u001b[1m0s\u001b[0m 13ms/step - loss: 11565.6621\n",
      "Epoch 28/50\n",
      "\u001b[1m2/2\u001b[0m \u001b[32m━━━━━━━━━━━━━━━━━━━━\u001b[0m\u001b[37m\u001b[0m \u001b[1m0s\u001b[0m 12ms/step - loss: 11468.7070\n",
      "Epoch 29/50\n",
      "\u001b[1m2/2\u001b[0m \u001b[32m━━━━━━━━━━━━━━━━━━━━\u001b[0m\u001b[37m\u001b[0m \u001b[1m0s\u001b[0m 12ms/step - loss: 11222.7773\n",
      "Epoch 30/50\n",
      "\u001b[1m2/2\u001b[0m \u001b[32m━━━━━━━━━━━━━━━━━━━━\u001b[0m\u001b[37m\u001b[0m \u001b[1m0s\u001b[0m 12ms/step - loss: 11157.5361\n",
      "Epoch 31/50\n",
      "\u001b[1m2/2\u001b[0m \u001b[32m━━━━━━━━━━━━━━━━━━━━\u001b[0m\u001b[37m\u001b[0m \u001b[1m0s\u001b[0m 13ms/step - loss: 11041.9121\n",
      "Epoch 32/50\n",
      "\u001b[1m2/2\u001b[0m \u001b[32m━━━━━━━━━━━━━━━━━━━━\u001b[0m\u001b[37m\u001b[0m \u001b[1m0s\u001b[0m 12ms/step - loss: 10855.4180\n",
      "Epoch 33/50\n",
      "\u001b[1m2/2\u001b[0m \u001b[32m━━━━━━━━━━━━━━━━━━━━\u001b[0m\u001b[37m\u001b[0m \u001b[1m0s\u001b[0m 13ms/step - loss: 10756.8369\n",
      "Epoch 34/50\n",
      "\u001b[1m2/2\u001b[0m \u001b[32m━━━━━━━━━━━━━━━━━━━━\u001b[0m\u001b[37m\u001b[0m \u001b[1m0s\u001b[0m 12ms/step - loss: 10645.0010\n",
      "Epoch 35/50\n",
      "\u001b[1m2/2\u001b[0m \u001b[32m━━━━━━━━━━━━━━━━━━━━\u001b[0m\u001b[37m\u001b[0m \u001b[1m0s\u001b[0m 12ms/step - loss: 10448.4824\n",
      "Epoch 36/50\n",
      "\u001b[1m2/2\u001b[0m \u001b[32m━━━━━━━━━━━━━━━━━━━━\u001b[0m\u001b[37m\u001b[0m \u001b[1m0s\u001b[0m 14ms/step - loss: 10406.4346\n",
      "Epoch 37/50\n",
      "\u001b[1m2/2\u001b[0m \u001b[32m━━━━━━━━━━━━━━━━━━━━\u001b[0m\u001b[37m\u001b[0m \u001b[1m0s\u001b[0m 13ms/step - loss: 10347.1475\n",
      "Epoch 38/50\n",
      "\u001b[1m2/2\u001b[0m \u001b[32m━━━━━━━━━━━━━━━━━━━━\u001b[0m\u001b[37m\u001b[0m \u001b[1m0s\u001b[0m 18ms/step - loss: 10157.8740\n",
      "Epoch 39/50\n",
      "\u001b[1m2/2\u001b[0m \u001b[32m━━━━━━━━━━━━━━━━━━━━\u001b[0m\u001b[37m\u001b[0m \u001b[1m0s\u001b[0m 12ms/step - loss: 10146.6367\n",
      "Epoch 40/50\n",
      "\u001b[1m2/2\u001b[0m \u001b[32m━━━━━━━━━━━━━━━━━━━━\u001b[0m\u001b[37m\u001b[0m \u001b[1m0s\u001b[0m 11ms/step - loss: 9938.3096\n",
      "Epoch 41/50\n",
      "\u001b[1m2/2\u001b[0m \u001b[32m━━━━━━━━━━━━━━━━━━━━\u001b[0m\u001b[37m\u001b[0m \u001b[1m0s\u001b[0m 12ms/step - loss: 9865.3613\n",
      "Epoch 42/50\n",
      "\u001b[1m2/2\u001b[0m \u001b[32m━━━━━━━━━━━━━━━━━━━━\u001b[0m\u001b[37m\u001b[0m \u001b[1m0s\u001b[0m 12ms/step - loss: 9838.0928\n",
      "Epoch 43/50\n",
      "\u001b[1m2/2\u001b[0m \u001b[32m━━━━━━━━━━━━━━━━━━━━\u001b[0m\u001b[37m\u001b[0m \u001b[1m0s\u001b[0m 12ms/step - loss: 9780.7285\n",
      "Epoch 44/50\n",
      "\u001b[1m2/2\u001b[0m \u001b[32m━━━━━━━━━━━━━━━━━━━━\u001b[0m\u001b[37m\u001b[0m \u001b[1m0s\u001b[0m 12ms/step - loss: 9771.8896\n",
      "Epoch 45/50\n",
      "\u001b[1m2/2\u001b[0m \u001b[32m━━━━━━━━━━━━━━━━━━━━\u001b[0m\u001b[37m\u001b[0m \u001b[1m0s\u001b[0m 12ms/step - loss: 9577.0498\n",
      "Epoch 46/50\n",
      "\u001b[1m2/2\u001b[0m \u001b[32m━━━━━━━━━━━━━━━━━━━━\u001b[0m\u001b[37m\u001b[0m \u001b[1m0s\u001b[0m 13ms/step - loss: 9585.3330\n",
      "Epoch 47/50\n",
      "\u001b[1m2/2\u001b[0m \u001b[32m━━━━━━━━━━━━━━━━━━━━\u001b[0m\u001b[37m\u001b[0m \u001b[1m0s\u001b[0m 13ms/step - loss: 9474.0322\n",
      "Epoch 48/50\n",
      "\u001b[1m2/2\u001b[0m \u001b[32m━━━━━━━━━━━━━━━━━━━━\u001b[0m\u001b[37m\u001b[0m \u001b[1m0s\u001b[0m 12ms/step - loss: 9500.1719\n",
      "Epoch 49/50\n",
      "\u001b[1m2/2\u001b[0m \u001b[32m━━━━━━━━━━━━━━━━━━━━\u001b[0m\u001b[37m\u001b[0m \u001b[1m0s\u001b[0m 12ms/step - loss: 9438.9111\n",
      "Epoch 50/50\n",
      "\u001b[1m2/2\u001b[0m \u001b[32m━━━━━━━━━━━━━━━━━━━━\u001b[0m\u001b[37m\u001b[0m \u001b[1m0s\u001b[0m 12ms/step - loss: 9341.2803\n"
     ]
    },
    {
     "data": {
      "text/plain": [
       "<keras.src.callbacks.history.History at 0x2344c669210>"
      ]
     },
     "execution_count": 161,
     "metadata": {},
     "output_type": "execute_result"
    }
   ],
   "source": [
    "# Train the LSTM model\n",
    "model = Sequential([\n",
    "    LSTM(64, input_shape=(X_train_2.shape[1], X_train_2.shape[2]), return_sequences=False),\n",
    "    Dense(1)\n",
    "])\n",
    "\n",
    "model.compile(optimizer='adam', loss='mse')\n",
    "model.fit(X_train_2, y_train_2, epochs=50, batch_size=8, verbose=1)"
   ]
  },
  {
   "cell_type": "code",
   "execution_count": 162,
   "id": "c51398ca",
   "metadata": {},
   "outputs": [
    {
     "name": "stdout",
     "output_type": "stream",
     "text": [
      "\u001b[1m1/1\u001b[0m \u001b[32m━━━━━━━━━━━━━━━━━━━━\u001b[0m\u001b[37m\u001b[0m \u001b[1m0s\u001b[0m 90ms/step\n",
      "LSTM MAE:  111.20\n",
      "LSTM RMSE: 111.32\n"
     ]
    }
   ],
   "source": [
    "# Evaluate the LSTM model\n",
    "y_pred_2 = model.predict(X_test_2).flatten()\n",
    "lstm_mae = mean_absolute_error(y_test_2, y_pred_2)\n",
    "lstm_rmse = np.sqrt(mean_squared_error(y_test_2, y_pred_2))\n",
    "\n",
    "print(f\"LSTM MAE:  {lstm_mae:.2f}\")\n",
    "print(f\"LSTM RMSE: {lstm_rmse:.2f}\")"
   ]
  },
  {
   "cell_type": "code",
   "execution_count": 163,
   "id": "97933d1f",
   "metadata": {},
   "outputs": [
    {
     "data": {
      "image/png": "[encoded data removed]",
      "text/plain": [
       "<Figure size 1000x500 with 1 Axes>"
      ]
     },
     "metadata": {},
     "output_type": "display_data"
    }
   ],
   "source": [
    "plt.figure(figsize=(10, 5))\n",
    "plt.plot(y_test, label='Actual')\n",
    "plt.plot(y_pred, label='Predicted')\n",
    "plt.title('Moderna LSTM Prediction')\n",
    "plt.xlabel('Time')\n",
    "plt.ylabel('Close Price')\n",
    "plt.legend()\n",
    "plt.show()"
   ]
  },
  {
   "cell_type": "code",
   "execution_count": 164,
   "id": "d032c14d",
   "metadata": {},
   "outputs": [
    {
     "name": "stdout",
     "output_type": "stream",
     "text": [
      "Linear Regression MAE:  7.37\n",
      "Linear Regression RMSE: 9.64\n",
      "LSTM MAE:  111.20\n",
      "LSTM RMSE: 111.32\n"
     ]
    }
   ],
   "source": [
    "print(f\"Linear Regression MAE:  {lr_mae:.2f}\")\n",
    "print(f\"Linear Regression RMSE: {lr_rmse:.2f}\")\n",
    "\n",
    "print(f\"LSTM MAE:  {lstm_mae:.2f}\")\n",
    "print(f\"LSTM RMSE: {lstm_rmse:.2f}\")\n"
   ]
  },
  {
   "cell_type": "markdown",
   "id": "ef696830",
   "metadata": {},
   "source": [
    "Linear regression performed better than LSTM prediciting closer to the actual closing prices. LSTM had high error, but dataset is very small (only 27 records)."
   ]
  },
  {
   "cell_type": "markdown",
   "id": "73ea048a",
   "metadata": {},
   "source": [
    "## Moderna Only (Classification)"
   ]
  },
  {
   "cell_type": "code",
   "execution_count": 165,
   "id": "b2443aec",
   "metadata": {},
   "outputs": [],
   "source": [
    "# Sort by date\n",
    "df_moderna.sort_values('Date', inplace=True)\n",
    "df_moderna.reset_index(drop=True, inplace=True)"
   ]
  },
  {
   "cell_type": "code",
   "execution_count": 166,
   "id": "d6e69ac7",
   "metadata": {},
   "outputs": [],
   "source": [
    "# Create binary target variable for classification\n",
    "df_moderna['Target'] = (df_moderna['Close'].shift(-1) > df_moderna['Close']).astype(int)\n",
    "df_moderna.dropna(inplace=True) \n"
   ]
  },
  {
   "cell_type": "code",
   "execution_count": 167,
   "id": "f2dba92f",
   "metadata": {},
   "outputs": [],
   "source": [
    "# Select features for classification\n",
    "features = ['Open', 'High', 'Low', 'Close', 'Volume', 'Market_Cap',\n",
    "            'PE_Ratio', 'Dividend_Yield', 'Volatility', 'Sentiment_Score']\n",
    "\n",
    "X = df_moderna[features]\n",
    "y = df_moderna['Target']"
   ]
  },
  {
   "cell_type": "code",
   "execution_count": 168,
   "id": "621a782c",
   "metadata": {},
   "outputs": [],
   "source": [
    "# Normalize the features\n",
    "scaler = StandardScaler()\n",
    "X_scaled = scaler.fit_transform(X)"
   ]
  },
  {
   "cell_type": "code",
   "execution_count": 169,
   "id": "100c62b9",
   "metadata": {},
   "outputs": [],
   "source": [
    "# Split the data into training and testing sets\n",
    "X_train, X_test, y_train, y_test = train_test_split(\n",
    "    X_scaled, y, test_size=0.2, shuffle=False\n",
    ")"
   ]
  },
  {
   "cell_type": "code",
   "execution_count": 170,
   "id": "1924deab",
   "metadata": {},
   "outputs": [],
   "source": [
    "from sklearn.linear_model import LogisticRegression\n",
    "\n",
    "clf = LogisticRegression()\n",
    "clf.fit(X_train, y_train)\n",
    "y_pred = clf.predict(X_test)"
   ]
  },
  {
   "cell_type": "code",
   "execution_count": 171,
   "id": "4740a701",
   "metadata": {},
   "outputs": [
    {
     "name": "stdout",
     "output_type": "stream",
     "text": [
      "Logistic Regression Results:\n",
      "Accuracy:  0.40\n",
      "Precision: 0.25\n",
      "Recall:    1.00\n",
      "F1 Score:  0.40\n"
     ]
    }
   ],
   "source": [
    "print(\"Logistic Regression Results:\")\n",
    "print(f\"Accuracy:  {accuracy_score(y_test, y_pred):.2f}\")\n",
    "print(f\"Precision: {precision_score(y_test, y_pred):.2f}\")\n",
    "print(f\"Recall:    {recall_score(y_test, y_pred):.2f}\")\n",
    "print(f\"F1 Score:  {f1_score(y_test, y_pred):.2f}\")\n",
    "\n"
   ]
  },
  {
   "cell_type": "code",
   "execution_count": 172,
   "id": "806c0e39",
   "metadata": {},
   "outputs": [
    {
     "data": {
      "image/png": "[encoded data removed]",
      "text/plain": [
       "<Figure size 1200x400 with 1 Axes>"
      ]
     },
     "metadata": {},
     "output_type": "display_data"
    }
   ],
   "source": [
    "y_test_reset = y_test.reset_index(drop=True)\n",
    "y_pred_reset = pd.Series(y_pred).reset_index(drop=True)\n",
    "\n",
    "plt.figure(figsize=(12, 4))\n",
    "plt.plot(y_test_reset[:30], label='Actual', marker='o')\n",
    "plt.plot(y_pred_reset[:30], label='Predicted', linestyle='--', marker='x')\n",
    "plt.title('Up/Down Prediction (1 = Up, 0 = Down)')\n",
    "plt.xlabel('Time Step')\n",
    "plt.ylabel('Direction')\n",
    "plt.yticks([0, 1])\n",
    "plt.legend()\n",
    "plt.grid(True)\n",
    "plt.show()"
   ]
  },
  {
   "cell_type": "markdown",
   "id": "7ed62688",
   "metadata": {},
   "source": [
    "When trying a classification model (logistic regression), to see how it would do predicting whether the next-day closing stock prices would be up or down, the accuracy was low and precision were low, while recall high. The model predicted that the stock prices most of the time would go up but was often wrong. "
   ]
  },
  {
   "cell_type": "markdown",
   "id": "ade3c419",
   "metadata": {},
   "source": []
  }
 ],
 "metadata": {
  "kernelspec": {
   "display_name": "AAI510",
   "language": "python",
   "name": "python3"
  },
  "language_info": {
   "codemirror_mode": {
    "name": "ipython",
    "version": 3
   },
   "file_extension": ".py",
   "mimetype": "text/x-python",
   "name": "python",
   "nbconvert_exporter": "python",
   "pygments_lexer": "ipython3",
   "version": "3.13.2"
  }
 },
 "nbformat": 4,
 "nbformat_minor": 5
}
